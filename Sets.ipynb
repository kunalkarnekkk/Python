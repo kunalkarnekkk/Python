{
 "cells": [
  {
   "cell_type": "code",
   "execution_count": 6,
   "id": "93a8ad21-354a-4831-af7a-7fe8bee002bf",
   "metadata": {},
   "outputs": [],
   "source": [
    "a={1,2,3}"
   ]
  },
  {
   "cell_type": "code",
   "execution_count": 7,
   "id": "1d60c85c-b4dd-4e8e-8010-f12f9126505e",
   "metadata": {},
   "outputs": [
    {
     "data": {
      "text/plain": [
       "set"
      ]
     },
     "execution_count": 7,
     "metadata": {},
     "output_type": "execute_result"
    }
   ],
   "source": [
    "type(a)"
   ]
  },
  {
   "cell_type": "code",
   "execution_count": 8,
   "id": "783d6662-5e6e-4d11-92bc-a789132da3cd",
   "metadata": {},
   "outputs": [],
   "source": [
    "kk=set()"
   ]
  },
  {
   "cell_type": "code",
   "execution_count": 9,
   "id": "a967b45d-62df-4a61-9b48-22ce5d98c20e",
   "metadata": {},
   "outputs": [
    {
     "data": {
      "text/plain": [
       "set"
      ]
     },
     "execution_count": 9,
     "metadata": {},
     "output_type": "execute_result"
    }
   ],
   "source": [
    "type(kk)"
   ]
  },
  {
   "cell_type": "code",
   "execution_count": 10,
   "id": "7d3ceb54-e1ac-41a7-942e-b0653afff6e8",
   "metadata": {},
   "outputs": [],
   "source": [
    "kk={1,2,3,'kk','karne'}"
   ]
  },
  {
   "cell_type": "code",
   "execution_count": 11,
   "id": "db3afa34-68d6-414c-9198-0216be1e6003",
   "metadata": {},
   "outputs": [
    {
     "data": {
      "text/plain": [
       "set"
      ]
     },
     "execution_count": 11,
     "metadata": {},
     "output_type": "execute_result"
    }
   ],
   "source": [
    "type(kk)"
   ]
  },
  {
   "cell_type": "code",
   "execution_count": 12,
   "id": "c0609752-b659-4184-b19b-61ac7461ba9e",
   "metadata": {},
   "outputs": [
    {
     "ename": "TypeError",
     "evalue": "'set' object is not subscriptable",
     "output_type": "error",
     "traceback": [
      "\u001b[1;31m---------------------------------------------------------------------------\u001b[0m",
      "\u001b[1;31mTypeError\u001b[0m                                 Traceback (most recent call last)",
      "Cell \u001b[1;32mIn[12], line 1\u001b[0m\n\u001b[1;32m----> 1\u001b[0m kk[\u001b[38;5;241m2\u001b[39m]\n",
      "\u001b[1;31mTypeError\u001b[0m: 'set' object is not subscriptable"
     ]
    }
   ],
   "source": [
    "kk[2]"
   ]
  },
  {
   "cell_type": "code",
   "execution_count": 16,
   "id": "f5f04238-3da0-464d-a30a-615996b8b6e7",
   "metadata": {},
   "outputs": [],
   "source": [
    "# add"
   ]
  },
  {
   "cell_type": "code",
   "execution_count": 13,
   "id": "e1e42f82-d105-466a-972c-b0e3b036f135",
   "metadata": {},
   "outputs": [],
   "source": [
    "a={1,2,3,'kk','karne'}"
   ]
  },
  {
   "cell_type": "code",
   "execution_count": 14,
   "id": "b69019eb-a884-42fc-b35b-9ecfdcc1ca9b",
   "metadata": {},
   "outputs": [],
   "source": [
    "a.add('satara')"
   ]
  },
  {
   "cell_type": "code",
   "execution_count": 15,
   "id": "587a4b43-7099-4274-bcdd-224d41bf4005",
   "metadata": {},
   "outputs": [
    {
     "data": {
      "text/plain": [
       "{1, 2, 3, 'karne', 'kk', 'satara'}"
      ]
     },
     "execution_count": 15,
     "metadata": {},
     "output_type": "execute_result"
    }
   ],
   "source": [
    "a"
   ]
  },
  {
   "cell_type": "code",
   "execution_count": 17,
   "id": "0054a1b3-6223-449d-9bd0-4aa5c38b6fa7",
   "metadata": {},
   "outputs": [],
   "source": [
    "# update"
   ]
  },
  {
   "cell_type": "code",
   "execution_count": 18,
   "id": "a8364bfe-adb4-4616-a40d-d70cf2a7c2ab",
   "metadata": {},
   "outputs": [],
   "source": [
    "a={1,2,3,'kk','karne'}"
   ]
  },
  {
   "cell_type": "code",
   "execution_count": 25,
   "id": "e6c4d92e-a6c8-4ff6-9f95-6d59057cebdd",
   "metadata": {},
   "outputs": [],
   "source": [
    "b={4}"
   ]
  },
  {
   "cell_type": "code",
   "execution_count": 26,
   "id": "802913fe-9877-48bf-8dde-34418621ca42",
   "metadata": {},
   "outputs": [],
   "source": [
    "a.update(b)"
   ]
  },
  {
   "cell_type": "code",
   "execution_count": 27,
   "id": "d67b1bda-aed3-466a-b836-e71763ed27e7",
   "metadata": {},
   "outputs": [
    {
     "data": {
      "text/plain": [
       "{1, 2, 3, 4, 5, 6, 7, 8, 'karne', 'kk'}"
      ]
     },
     "execution_count": 27,
     "metadata": {},
     "output_type": "execute_result"
    }
   ],
   "source": [
    "a"
   ]
  },
  {
   "cell_type": "code",
   "execution_count": null,
   "id": "5eb95b1a-dfa4-4fa2-92ac-c9ec445c28c6",
   "metadata": {},
   "outputs": [],
   "source": []
  }
 ],
 "metadata": {
  "kernelspec": {
   "display_name": "Python 3 (ipykernel)",
   "language": "python",
   "name": "python3"
  },
  "language_info": {
   "codemirror_mode": {
    "name": "ipython",
    "version": 3
   },
   "file_extension": ".py",
   "mimetype": "text/x-python",
   "name": "python",
   "nbconvert_exporter": "python",
   "pygments_lexer": "ipython3",
   "version": "3.11.7"
  }
 },
 "nbformat": 4,
 "nbformat_minor": 5
}
