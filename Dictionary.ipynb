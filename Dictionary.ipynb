{
 "cells": [
  {
   "cell_type": "code",
   "execution_count": 1,
   "id": "d6f85a44-8ba8-47d4-9b75-d88c9fe62b98",
   "metadata": {},
   "outputs": [],
   "source": [
    "a={}"
   ]
  },
  {
   "cell_type": "code",
   "execution_count": 2,
   "id": "317b8b5e-7f8c-480c-91b6-8eaf2e2a2461",
   "metadata": {},
   "outputs": [
    {
     "data": {
      "text/plain": [
       "dict"
      ]
     },
     "execution_count": 2,
     "metadata": {},
     "output_type": "execute_result"
    }
   ],
   "source": [
    "type(a)"
   ]
  },
  {
   "cell_type": "code",
   "execution_count": 3,
   "id": "f018f804-23d9-41c2-8e6c-0f74d7b379fc",
   "metadata": {},
   "outputs": [],
   "source": [
    "a=set()"
   ]
  },
  {
   "cell_type": "code",
   "execution_count": 4,
   "id": "c02d7912-39e5-45ab-8308-f988b82acb41",
   "metadata": {},
   "outputs": [
    {
     "data": {
      "text/plain": [
       "set"
      ]
     },
     "execution_count": 4,
     "metadata": {},
     "output_type": "execute_result"
    }
   ],
   "source": [
    "type(a)"
   ]
  },
  {
   "cell_type": "code",
   "execution_count": 5,
   "id": "c524633b-6c72-4d67-baf5-8518babeea09",
   "metadata": {},
   "outputs": [],
   "source": [
    "a={1,2,3}"
   ]
  },
  {
   "cell_type": "code",
   "execution_count": 8,
   "id": "010949fa-1c3f-45b6-a4f8-f4fb467055a2",
   "metadata": {},
   "outputs": [],
   "source": [
    "a={}"
   ]
  },
  {
   "cell_type": "code",
   "execution_count": 9,
   "id": "0f61b796-4093-42ff-a391-160bcf1a330f",
   "metadata": {},
   "outputs": [],
   "source": [
    "a={'name':'Kunal','age':24}"
   ]
  },
  {
   "cell_type": "code",
   "execution_count": 10,
   "id": "7a087f4a-3961-417e-abcf-234bb33bf8bd",
   "metadata": {},
   "outputs": [
    {
     "data": {
      "text/plain": [
       "24"
      ]
     },
     "execution_count": 10,
     "metadata": {},
     "output_type": "execute_result"
    }
   ],
   "source": [
    "a['age']"
   ]
  },
  {
   "cell_type": "code",
   "execution_count": 11,
   "id": "68d30040-d8d5-482a-be27-1ef61aa4899d",
   "metadata": {},
   "outputs": [],
   "source": [
    "def my_function():\n",
    "    print(\"\\tin function:start\")\n",
    "    print(\"\\tin function:code\")\n",
    "    print(\"\\tin function:end\")"
   ]
  },
  {
   "cell_type": "code",
   "execution_count": 12,
   "id": "7bd165aa-19ff-4db7-a663-362592fbd5c7",
   "metadata": {},
   "outputs": [
    {
     "name": "stdout",
     "output_type": "stream",
     "text": [
      "in main:start\n",
      "\tin function:start\n",
      "\tin function:code\n",
      "\tin function:end\n",
      "in main:end\n"
     ]
    }
   ],
   "source": [
    "print(\"in main:start\")\n",
    "my_function()\n",
    "print(\"in main:end\")"
   ]
  },
  {
   "cell_type": "code",
   "execution_count": null,
   "id": "8fa98074-aed7-43e3-8b1b-f04490c2ba26",
   "metadata": {},
   "outputs": [],
   "source": []
  }
 ],
 "metadata": {
  "kernelspec": {
   "display_name": "Python 3 (ipykernel)",
   "language": "python",
   "name": "python3"
  },
  "language_info": {
   "codemirror_mode": {
    "name": "ipython",
    "version": 3
   },
   "file_extension": ".py",
   "mimetype": "text/x-python",
   "name": "python",
   "nbconvert_exporter": "python",
   "pygments_lexer": "ipython3",
   "version": "3.11.7"
  }
 },
 "nbformat": 4,
 "nbformat_minor": 5
}
