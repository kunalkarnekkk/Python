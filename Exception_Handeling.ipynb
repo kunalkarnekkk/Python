{
 "cells": [
  {
   "cell_type": "code",
   "execution_count": 5,
   "id": "84369f95-dc9c-42d8-9bd5-53dce822e696",
   "metadata": {},
   "outputs": [
    {
     "name": "stdout",
     "output_type": "stream",
     "text": [
      "You can't divide by zero!\n"
     ]
    }
   ],
   "source": [
    "try:\n",
    "    x = 10 / 0\n",
    "    print(x)\n",
    "except ZeroDivisionError:\n",
    "    print(\"You can't divide by zero!\")\n"
   ]
  },
  {
   "cell_type": "code",
   "execution_count": 9,
   "id": "0ccc5ab7-a881-4b83-94d1-007ef776e74f",
   "metadata": {},
   "outputs": [
    {
     "name": "stdin",
     "output_type": "stream",
     "text": [
      "Enter a number:  5\n",
      "Enter another number:  a\n"
     ]
    },
    {
     "name": "stdout",
     "output_type": "stream",
     "text": [
      "Invalid input. Please enter a valid number.\n"
     ]
    }
   ],
   "source": [
    "try:\n",
    "    a = int(input(\"Enter a number: \"))\n",
    "    b = int(input(\"Enter another number: \"))\n",
    "    result = a / b\n",
    "    print(result)\n",
    "except ValueError:\n",
    "    print(\"Invalid input. Please enter a valid number.\")\n",
    "except ZeroDivisionError:\n",
    "    print(\"You can't divide by zero!\")\n"
   ]
  },
  {
   "cell_type": "code",
   "execution_count": 14,
   "id": "e425b71f-6e97-420e-ab5e-942682fe3034",
   "metadata": {},
   "outputs": [
    {
     "name": "stdin",
     "output_type": "stream",
     "text": [
      "Enter a number:  4\n",
      "Enter another number:  5\n"
     ]
    },
    {
     "name": "stdout",
     "output_type": "stream",
     "text": [
      "0.8\n",
      "The result is 0.8\n"
     ]
    }
   ],
   "source": [
    "try:\n",
    "    a = int(input(\"Enter a number: \"))\n",
    "    b = int(input(\"Enter another number: \"))\n",
    "    result = a / b\n",
    "    print(result)\n",
    "except (ValueError, ZeroDivisionError) as e:\n",
    "    print(f\"Error: wrong entries\")\n",
    "else:\n",
    "    print(f\"The result is {result}\")\n"
   ]
  },
  {
   "cell_type": "code",
   "execution_count": 16,
   "id": "2b7267c0-bca5-4e51-9dc7-9decf4810607",
   "metadata": {},
   "outputs": [
    {
     "name": "stdout",
     "output_type": "stream",
     "text": [
      "File not found.\n",
      "Execution completed.\n"
     ]
    }
   ],
   "source": [
    "try:\n",
    "    file = open('example.txt', 'r')\n",
    "    content = file.read()\n",
    "except FileNotFoundError:\n",
    "    print(\"File not found.\")\n",
    "finally:\n",
    "   \n",
    "    print(\"Execution completed.\")\n"
   ]
  },
  {
   "cell_type": "code",
   "execution_count": 23,
   "id": "6422d79a-73bc-4dff-80a1-7a0067c0ebde",
   "metadata": {},
   "outputs": [
    {
     "name": "stdout",
     "output_type": "stream",
     "text": [
      "Test 1:\n",
      "The result is 5.0.\n",
      "Execution completed.\n",
      "\n",
      "Test 2:\n",
      "Error: Division by zero.\n",
      "Execution completed.\n"
     ]
    }
   ],
   "source": [
    "def divide(a, b):\n",
    "    try:\n",
    "        result = a / b\n",
    "    except ZeroDivisionError:\n",
    "        print(\"Error: Division by zero.\")\n",
    "    else:\n",
    "        print(f\"The result is {result}.\")\n",
    "    finally:\n",
    "        print(\"Execution completed.\")\n",
    "\n",
    "# Test cases\n",
    "print(\"Test 1:\")\n",
    "divide(10, 2)\n",
    "\n",
    "print(\"\\nTest 2:\")\n",
    "divide(10, 0)\n"
   ]
  },
  {
   "cell_type": "code",
   "execution_count": 25,
   "id": "9eecf750-8e42-41fc-9823-72b83456534a",
   "metadata": {},
   "outputs": [],
   "source": [
    "import re"
   ]
  },
  {
   "cell_type": "code",
   "execution_count": 28,
   "id": "68ff1f10-eb39-4628-9e6d-3f62242d27ab",
   "metadata": {},
   "outputs": [
    {
     "data": {
      "text/plain": [
       "[]"
      ]
     },
     "execution_count": 28,
     "metadata": {},
     "output_type": "execute_result"
    }
   ],
   "source": [
    "a='kunalkundlikkarne'\n",
    "re.findall('alxasl', a)"
   ]
  },
  {
   "cell_type": "code",
   "execution_count": 29,
   "id": "97f1d81f-a891-48e6-8564-23a2055cebe5",
   "metadata": {},
   "outputs": [
    {
     "name": "stdout",
     "output_type": "stream",
     "text": [
      "False\n"
     ]
    }
   ],
   "source": [
    "x = \"python\"\n",
    "print(x[:-1] is x[:-1])\n"
   ]
  },
  {
   "cell_type": "code",
   "execution_count": 30,
   "id": "b232f933-795b-429a-812a-525f8583f5f4",
   "metadata": {},
   "outputs": [
    {
     "name": "stdout",
     "output_type": "stream",
     "text": [
      "((1, 2), {'a': 3, 'b': 4})\n"
     ]
    }
   ],
   "source": [
    "def func(*args, **kwargs):\n",
    "    return args, kwargs\n",
    "result = func(1, 2, a=3, b=4)\n",
    "print(result)"
   ]
  },
  {
   "cell_type": "code",
   "execution_count": 31,
   "id": "9b6a8843-1112-448d-abec-687279d48ed0",
   "metadata": {},
   "outputs": [
    {
     "name": "stdout",
     "output_type": "stream",
     "text": [
      "['c', 'd']\n"
     ]
    }
   ],
   "source": [
    "x = 'abcd'\n",
    "y = list(filter(lambda i: i > 'b', x))\n",
    "print(y)"
   ]
  },
  {
   "cell_type": "code",
   "execution_count": 32,
   "id": "d7fe01ec-4847-4af0-bff9-acdef0aee19c",
   "metadata": {},
   "outputs": [
    {
     "name": "stdout",
     "output_type": "stream",
     "text": [
      "Python-is-fun\n"
     ]
    }
   ],
   "source": [
    "x = 'Python is fun'\n",
    "y = '-'.join(x.split())\n",
    "print(y)"
   ]
  },
  {
   "cell_type": "code",
   "execution_count": 33,
   "id": "69433a3c-ae54-4b37-a733-c57eb5b2d769",
   "metadata": {},
   "outputs": [
    {
     "name": "stdout",
     "output_type": "stream",
     "text": [
      "{'p': 'x', 'q': 'y', 'r': 'z'}\n"
     ]
    }
   ],
   "source": [
    "x = 'pqr'\n",
    "y = 'xyz'\n",
    "z = {i: j for i, j in zip(x, y)}\n",
    "print(z)"
   ]
  },
  {
   "cell_type": "code",
   "execution_count": 34,
   "id": "28ef6c6f-9074-4101-9169-8803934a510a",
   "metadata": {},
   "outputs": [
    {
     "name": "stdout",
     "output_type": "stream",
     "text": [
      "6\n"
     ]
    }
   ],
   "source": [
    "x = '123'\n",
    "y = map(int, x)\n",
    "print(sum(y))\n",
    "\n"
   ]
  },
  {
   "cell_type": "code",
   "execution_count": 35,
   "id": "62bbf2bb-d7af-4092-867c-2ec1bb3c6c22",
   "metadata": {},
   "outputs": [
    {
     "name": "stdout",
     "output_type": "stream",
     "text": [
      "[2, 4]\n"
     ]
    }
   ],
   "source": [
    "x = [1, 2, 3, 4]\n",
    "y = [n for n in x if n % 2 == 0]\n",
    "x.clear()\n",
    "print(y)"
   ]
  },
  {
   "cell_type": "code",
   "execution_count": 36,
   "id": "7915c2ee-a701-4d16-8697-2c7c27ba8cd3",
   "metadata": {},
   "outputs": [
    {
     "name": "stdout",
     "output_type": "stream",
     "text": [
      "{1: 'a', 2: 'b'}\n"
     ]
    }
   ],
   "source": [
    "x = {'a': 1, 'b': 2}\n",
    "y = {v: k for k, v in x.items()}\n",
    "x['c'] = 3\n",
    "print(y)"
   ]
  },
  {
   "cell_type": "code",
   "execution_count": 37,
   "id": "7f9c621c-f86e-412f-89c8-e9c894785e1a",
   "metadata": {},
   "outputs": [
    {
     "name": "stdout",
     "output_type": "stream",
     "text": [
      "z\n"
     ]
    }
   ],
   "source": [
    "x = 'abc'\n",
    "y = 'xyz'\n",
    "z = dict(zip(x, y))\n",
    "print(z['c'])"
   ]
  },
  {
   "cell_type": "code",
   "execution_count": 38,
   "id": "14f5c927-0fb8-40c5-aa7a-dc1d7b593bd8",
   "metadata": {},
   "outputs": [
    {
     "name": "stdout",
     "output_type": "stream",
     "text": [
      "3\n"
     ]
    }
   ],
   "source": [
    "x = [1, 2, 3]\n",
    "y = map(lambda n: n+1, x)\n",
    "print(list(y)[1])"
   ]
  },
  {
   "cell_type": "code",
   "execution_count": 39,
   "id": "25b19b59-2dcc-4ad3-9a18-4df74f063160",
   "metadata": {},
   "outputs": [
    {
     "name": "stdout",
     "output_type": "stream",
     "text": [
      "f00b4r\n"
     ]
    }
   ],
   "source": [
    "x = 'foobar'\n",
    "y = x.replace('o', '0').replace('a', '4')\n",
    "print(y)"
   ]
  },
  {
   "cell_type": "code",
   "execution_count": 40,
   "id": "2428d635-2aa0-4beb-bb2c-2dd88c49c9c3",
   "metadata": {},
   "outputs": [
    {
     "name": "stdout",
     "output_type": "stream",
     "text": [
      "nohtyP\n"
     ]
    }
   ],
   "source": [
    "x = 'Python'\n",
    "y = [x[i] for i in range(-1, -len(x) - 1, -1)]\n",
    "print(''.join(y))"
   ]
  },
  {
   "cell_type": "code",
   "execution_count": 41,
   "id": "e98290c1-4cf7-40f0-86f7-4dccf33500d5",
   "metadata": {},
   "outputs": [
    {
     "name": "stdout",
     "output_type": "stream",
     "text": [
      "[4, 16]\n"
     ]
    }
   ],
   "source": [
    "x = [1, 2, 3, 4]\n",
    "y = list(map(lambda n: n**2, filter(lambda n: n%2 == 0, x)))\n",
    "print(y)"
   ]
  },
  {
   "cell_type": "code",
   "execution_count": 42,
   "id": "0c4cc7fd-e39a-455d-9fb0-e7197111ebe6",
   "metadata": {},
   "outputs": [
    {
     "name": "stdout",
     "output_type": "stream",
     "text": [
      "9\n"
     ]
    }
   ],
   "source": [
    "x = (lambda z: z * (lambda y: y + 1)(2))(3)\n",
    "print(x)"
   ]
  },
  {
   "cell_type": "code",
   "execution_count": 43,
   "id": "c580927b-ec4a-4e07-879c-c11ff81c1c97",
   "metadata": {},
   "outputs": [
    {
     "name": "stdout",
     "output_type": "stream",
     "text": [
      "Nonlocal Global\n"
     ]
    }
   ],
   "source": [
    "x = \"Global\"\n",
    "def outer():\n",
    "    x = \"Local\"\n",
    "    def inner():\n",
    "        nonlocal x\n",
    "        x = \"Nonlocal\"\n",
    "    inner()\n",
    "    return x\n",
    "print(outer(), x)"
   ]
  },
  {
   "cell_type": "code",
   "execution_count": 45,
   "id": "ebc6ac78-8840-4040-a486-b2f2c6a0b5e9",
   "metadata": {},
   "outputs": [
    {
     "name": "stdout",
     "output_type": "stream",
     "text": [
      "13\n"
     ]
    }
   ],
   "source": [
    "def func(x, y):\n",
    "    if x == 0:\n",
    "        return y\n",
    "    else:\n",
    "        return func(x - 1, x + y)\n",
    "print(func(4, 3))\n"
   ]
  },
  {
   "cell_type": "code",
   "execution_count": 46,
   "id": "f0a117e8-19d5-4a78-9a7b-9aab488b665a",
   "metadata": {},
   "outputs": [
    {
     "name": "stdout",
     "output_type": "stream",
     "text": [
      "13\n"
     ]
    }
   ],
   "source": [
    "def func(x, y):\n",
    "    if x == 0:\n",
    "        return y\n",
    "    else:\n",
    "        return func(x - 1, x + y)\n",
    "print(func(4, 3))"
   ]
  },
  {
   "cell_type": "code",
   "execution_count": 47,
   "id": "df4ae129-b297-485e-9b81-83ef632441ad",
   "metadata": {},
   "outputs": [
    {
     "name": "stdout",
     "output_type": "stream",
     "text": [
      "[0, 1, 4]\n",
      "[1, 2, 0, 1, 4]\n",
      "[0, 1, 4, 0, 1, 4]\n"
     ]
    }
   ],
   "source": [
    "def func(x, lst=[]):\n",
    "    for i in range(x):\n",
    "        lst.append(i*i)\n",
    "    return lst\n",
    "print(func(3))\n",
    "print(func(3, [1, 2]))\n",
    "print(func(3))"
   ]
  },
  {
   "cell_type": "code",
   "execution_count": null,
   "id": "fd324125-1146-4441-a4ea-47cd441939b6",
   "metadata": {},
   "outputs": [],
   "source": []
  }
 ],
 "metadata": {
  "kernelspec": {
   "display_name": "Python 3 (ipykernel)",
   "language": "python",
   "name": "python3"
  },
  "language_info": {
   "codemirror_mode": {
    "name": "ipython",
    "version": 3
   },
   "file_extension": ".py",
   "mimetype": "text/x-python",
   "name": "python",
   "nbconvert_exporter": "python",
   "pygments_lexer": "ipython3",
   "version": "3.11.7"
  }
 },
 "nbformat": 4,
 "nbformat_minor": 5
}
