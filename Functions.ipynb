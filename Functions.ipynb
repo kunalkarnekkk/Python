{
 "cells": [
  {
   "cell_type": "code",
   "execution_count": null,
   "id": "a938f090-8305-4210-b61a-85c3003b0238",
   "metadata": {},
   "outputs": [],
   "source": [
    "#functions:\n",
    "-code written away from main script\n",
    "-called from main script when needed\n",
    "-when called control gets transfered to function\n",
    "-and returns to main script after execution\n",
    "\n",
    "+ve:\n",
    "Reuse,Modular coding,faster devlopment\n",
    "(chines food)"
   ]
  },
  {
   "cell_type": "code",
   "execution_count": 1,
   "id": "6255c1f8-4d1f-40f2-b096-32f049adbffc",
   "metadata": {},
   "outputs": [],
   "source": [
    "def my_function():\n",
    "    print(\"\\tin function:start\")\n",
    "    print(\"\\tin function:code\")\n",
    "    print(\"\\tin function:end\")"
   ]
  },
  {
   "cell_type": "code",
   "execution_count": 2,
   "id": "18935e45-a20a-4001-b114-5194b030871c",
   "metadata": {},
   "outputs": [
    {
     "name": "stdout",
     "output_type": "stream",
     "text": [
      "in main:start\n",
      "\tin function:start\n",
      "\tin function:code\n",
      "\tin function:end\n",
      "in main:end\n"
     ]
    }
   ],
   "source": [
    "print(\"in main:start\")\n",
    "my_function()\n",
    "print(\"in main:end\")"
   ]
  },
  {
   "cell_type": "code",
   "execution_count": 6,
   "id": "9b496f3e-f2ff-48c3-b2dc-3f50ccdc495d",
   "metadata": {},
   "outputs": [],
   "source": [
    "def my_function():\n",
    "    '''input:none output:prints'''#document string optional\n",
    "    print(\"\\tin function:start\")\n",
    "    print(\"\\tin function:code\")\n",
    "    print(\"\\tin function:end\")"
   ]
  },
  {
   "cell_type": "code",
   "execution_count": 7,
   "id": "65b6dd79-0826-4237-ba4e-f31d107658ad",
   "metadata": {},
   "outputs": [
    {
     "name": "stdout",
     "output_type": "stream",
     "text": [
      "\tin function:start\n",
      "\tin function:code\n",
      "\tin function:end\n"
     ]
    }
   ],
   "source": [
    "my_function()\n"
   ]
  },
  {
   "cell_type": "code",
   "execution_count": 8,
   "id": "43133c40-11be-4286-968b-26b1d2f779eb",
   "metadata": {},
   "outputs": [],
   "source": [
    "# pass arguments"
   ]
  },
  {
   "cell_type": "code",
   "execution_count": 28,
   "id": "10d7f2ae-9c63-4ad7-9718-43c7df13bb76",
   "metadata": {},
   "outputs": [
    {
     "name": "stdout",
     "output_type": "stream",
     "text": [
      "inside: 11\n",
      "outside fun 10\n"
     ]
    },
    {
     "data": {
      "text/plain": [
       "10"
      ]
     },
     "execution_count": 28,
     "metadata": {},
     "output_type": "execute_result"
    }
   ],
   "source": [
    "x=10\n",
    "\n",
    "def tp(data):\n",
    "    data=data+1\n",
    "    print('inside:',data)\n",
    "tp(x)\n",
    "print('outside fun',x)\n",
    "x\n",
    "x"
   ]
  },
  {
   "cell_type": "code",
   "execution_count": 27,
   "id": "cd7b615e-94f7-4953-b98f-2cb4ad9029e4",
   "metadata": {},
   "outputs": [
    {
     "name": "stdout",
     "output_type": "stream",
     "text": [
      "At starting [10]\n",
      "inside funvtion: [40]\n",
      "after function [40]\n"
     ]
    },
    {
     "data": {
      "text/plain": [
       "[40]"
      ]
     },
     "execution_count": 27,
     "metadata": {},
     "output_type": "execute_result"
    }
   ],
   "source": [
    "x=[10]\n",
    "\n",
    "def tp(data):\n",
    "    data[0]=x[0]*4\n",
    "    print('inside funvtion:',x)\n",
    "\n",
    "print('At starting',x)\n",
    "tp(x)\n",
    "print('after function',x)\n",
    "x"
   ]
  },
  {
   "cell_type": "code",
   "execution_count": null,
   "id": "d3cc5272-cabb-45b9-a79e-b737a8db5bad",
   "metadata": {},
   "outputs": [],
   "source": []
  },
  {
   "cell_type": "code",
   "execution_count": null,
   "id": "03402013-d412-4803-970c-473418109dde",
   "metadata": {},
   "outputs": [],
   "source": []
  }
 ],
 "metadata": {
  "kernelspec": {
   "display_name": "Python 3 (ipykernel)",
   "language": "python",
   "name": "python3"
  },
  "language_info": {
   "codemirror_mode": {
    "name": "ipython",
    "version": 3
   },
   "file_extension": ".py",
   "mimetype": "text/x-python",
   "name": "python",
   "nbconvert_exporter": "python",
   "pygments_lexer": "ipython3",
   "version": "3.11.7"
  }
 },
 "nbformat": 4,
 "nbformat_minor": 5
}
