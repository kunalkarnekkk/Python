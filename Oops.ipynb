{
 "cells": [
  {
   "cell_type": "code",
   "execution_count": 4,
   "id": "86526cbe-2299-4e34-8c77-ee685f8ae704",
   "metadata": {},
   "outputs": [
    {
     "name": "stdout",
     "output_type": "stream",
     "text": [
      "20\n"
     ]
    }
   ],
   "source": [
    "x = lambda a: 10 + 10\n",
    "print(x(5))"
   ]
  },
  {
   "cell_type": "code",
   "execution_count": 14,
   "id": "fc0c1c99-226e-464c-ac82-9a117ae82af4",
   "metadata": {},
   "outputs": [
    {
     "name": "stdout",
     "output_type": "stream",
     "text": [
      "-2\n"
     ]
    }
   ],
   "source": [
    "add = lambda x, y: x - y\n",
    "print(add(2,4))  # Output: 5\n"
   ]
  },
  {
   "cell_type": "code",
   "execution_count": 19,
   "id": "ce04069c-40a6-47ec-a27a-f894e7bf28f6",
   "metadata": {},
   "outputs": [
    {
     "name": "stdout",
     "output_type": "stream",
     "text": [
      "[False, True, False]\n"
     ]
    }
   ],
   "source": [
    "\n",
    "x = [1, 2, 3]\n",
    "y = map(lambda n: n%2==0, x)\n",
    "print(list(y))"
   ]
  },
  {
   "cell_type": "code",
   "execution_count": 17,
   "id": "59cf7b52-00d0-416f-93d1-52fd1e175ada",
   "metadata": {
    "scrolled": true
   },
   "outputs": [
    {
     "name": "stdout",
     "output_type": "stream",
     "text": [
      "[6, 6, 6, 6]\n"
     ]
    }
   ],
   "source": [
    "\n",
    "x = [lambda x: x * i for i in range(4)]\n",
    "print([m(2) for m in x])"
   ]
  },
  {
   "cell_type": "code",
   "execution_count": 40,
   "id": "ca40801c-0fc5-40e6-bdc9-2d3134198f5a",
   "metadata": {},
   "outputs": [
    {
     "ename": "SyntaxError",
     "evalue": "invalid syntax (2878527731.py, line 1)",
     "output_type": "error",
     "traceback": [
      "\u001b[1;36m  Cell \u001b[1;32mIn[40], line 1\u001b[1;36m\u001b[0m\n\u001b[1;33m    global a=10\u001b[0m\n\u001b[1;37m            ^\u001b[0m\n\u001b[1;31mSyntaxError\u001b[0m\u001b[1;31m:\u001b[0m invalid syntax\n"
     ]
    }
   ],
   "source": [
    "global a=10\n",
    "def var():\n",
    "    \n",
    "    \n",
    "    a=a+1\n",
    "\n",
    "print('old-->',a)\n",
    "var()\n",
    "print('After function',a)\n"
   ]
  },
  {
   "cell_type": "code",
   "execution_count": null,
   "id": "126b4a73-92e6-4c60-8f56-e3b904f43009",
   "metadata": {},
   "outputs": [],
   "source": []
  }
 ],
 "metadata": {
  "kernelspec": {
   "display_name": "Python 3 (ipykernel)",
   "language": "python",
   "name": "python3"
  },
  "language_info": {
   "codemirror_mode": {
    "name": "ipython",
    "version": 3
   },
   "file_extension": ".py",
   "mimetype": "text/x-python",
   "name": "python",
   "nbconvert_exporter": "python",
   "pygments_lexer": "ipython3",
   "version": "3.11.7"
  }
 },
 "nbformat": 4,
 "nbformat_minor": 5
}
