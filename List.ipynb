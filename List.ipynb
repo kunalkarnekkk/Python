{
 "cells": [
  {
   "cell_type": "markdown",
   "id": "9d725744-06a7-4b71-9940-0c121e297f9a",
   "metadata": {},
   "source": [
    "# List"
   ]
  },
  {
   "cell_type": "code",
   "execution_count": 1,
   "id": "66a0a1c3-bcc6-4a62-9b00-9c257fb7f0eb",
   "metadata": {},
   "outputs": [],
   "source": [
    "# changable\n",
    "# items can be different types\n",
    "# enclosed in [ ]"
   ]
  },
  {
   "cell_type": "code",
   "execution_count": 9,
   "id": "04c7fc35-ac96-4c1b-9c8f-27d41f55e10a",
   "metadata": {},
   "outputs": [],
   "source": [
    "i=5\n",
    "mylist=[1,2.5,True,'KUNAL',2+i]"
   ]
  },
  {
   "cell_type": "code",
   "execution_count": 10,
   "id": "c114bea2-2469-422f-b3e4-158dedfa4918",
   "metadata": {},
   "outputs": [
    {
     "data": {
      "text/plain": [
       "[1, 2.5, True, 'KUNAL', 7]"
      ]
     },
     "execution_count": 10,
     "metadata": {},
     "output_type": "execute_result"
    }
   ],
   "source": [
    "mylist"
   ]
  },
  {
   "cell_type": "markdown",
   "id": "00339822-e86b-44df-82cf-e12815a35286",
   "metadata": {},
   "source": [
    "### ADDING ELEMENTS"
   ]
  },
  {
   "cell_type": "code",
   "execution_count": 11,
   "id": "a7d801a8-900d-4258-8fd8-034112e2f29d",
   "metadata": {},
   "outputs": [],
   "source": [
    "# append(item)--> add item at last"
   ]
  },
  {
   "cell_type": "code",
   "execution_count": 12,
   "id": "6a84a286-b5d0-4b4e-a27c-3f7fb3b8237b",
   "metadata": {},
   "outputs": [],
   "source": [
    "mylist=['kk',1,'kunal',100,'karne']"
   ]
  },
  {
   "cell_type": "code",
   "execution_count": 15,
   "id": "67ed3ae6-e0b8-4cfb-8c34-1153ef978b5e",
   "metadata": {},
   "outputs": [],
   "source": [
    "mylist.append('SATARA')"
   ]
  },
  {
   "cell_type": "code",
   "execution_count": 16,
   "id": "30b1365f-cf17-4cae-b486-d0f916dd3d48",
   "metadata": {},
   "outputs": [
    {
     "data": {
      "text/plain": [
       "['kk', 1, 'kunal', 100, 'karne', 101, 'SATARA']"
      ]
     },
     "execution_count": 16,
     "metadata": {},
     "output_type": "execute_result"
    }
   ],
   "source": [
    "mylist"
   ]
  },
  {
   "cell_type": "code",
   "execution_count": 17,
   "id": "9a5b4f19-9879-4f8b-930a-f6e196037366",
   "metadata": {},
   "outputs": [],
   "source": [
    "# insert(index,item) --> add item at particular index"
   ]
  },
  {
   "cell_type": "code",
   "execution_count": 18,
   "id": "8468edf1-bf08-4260-b32f-e83a01733679",
   "metadata": {},
   "outputs": [],
   "source": [
    "mylist=[0,1,2,3,4,5,6,7,8]"
   ]
  },
  {
   "cell_type": "code",
   "execution_count": 20,
   "id": "02e3e29f-adb1-461d-bd7b-22eec0a00fc3",
   "metadata": {},
   "outputs": [],
   "source": [
    "mylist.insert(2,'kk')"
   ]
  },
  {
   "cell_type": "code",
   "execution_count": 21,
   "id": "b011225b-3003-46f4-9adf-1234f9801db0",
   "metadata": {},
   "outputs": [
    {
     "data": {
      "text/plain": [
       "[0, 1, 'kk', 2, 3, 4, 5, 6, 7, 8]"
      ]
     },
     "execution_count": 21,
     "metadata": {},
     "output_type": "execute_result"
    }
   ],
   "source": [
    "mylist"
   ]
  },
  {
   "cell_type": "code",
   "execution_count": 22,
   "id": "8757efd4-c09c-4472-b634-e3c4e9a2bea2",
   "metadata": {},
   "outputs": [],
   "source": [
    "# extend(iterable)"
   ]
  },
  {
   "cell_type": "code",
   "execution_count": 25,
   "id": "c9e87956-b99b-44f1-b940-f31880905e25",
   "metadata": {},
   "outputs": [],
   "source": [
    "k=['a','b']"
   ]
  },
  {
   "cell_type": "code",
   "execution_count": 26,
   "id": "bc8ec292-4425-471a-88b2-a43a5f3d2d14",
   "metadata": {},
   "outputs": [],
   "source": [
    "mylist.extend(k)"
   ]
  },
  {
   "cell_type": "code",
   "execution_count": 27,
   "id": "0b0f1b59-d970-4915-bdd4-d38eb7cc2c5a",
   "metadata": {},
   "outputs": [
    {
     "data": {
      "text/plain": [
       "[0, 1, 'kk', 2, 3, 4, 5, 6, 7, 8, 5, 6, 'a', 'b']"
      ]
     },
     "execution_count": 27,
     "metadata": {},
     "output_type": "execute_result"
    }
   ],
   "source": [
    "mylist"
   ]
  },
  {
   "cell_type": "markdown",
   "id": "d28a7c0b-4188-4dd0-b6b4-9d3316c25750",
   "metadata": {},
   "source": [
    "### Removing Elements"
   ]
  },
  {
   "cell_type": "code",
   "execution_count": 28,
   "id": "7ce45791-332a-40ff-83a2-46de9b2ae3a1",
   "metadata": {},
   "outputs": [],
   "source": [
    "# remove"
   ]
  },
  {
   "cell_type": "code",
   "execution_count": 29,
   "id": "8254034f-05c3-4ddd-bd27-2d8ee787d8d0",
   "metadata": {},
   "outputs": [],
   "source": [
    "mylist=[1,2,3,1,2,3]"
   ]
  },
  {
   "cell_type": "code",
   "execution_count": 34,
   "id": "4a592204-f8ec-424c-9651-c22ed252b38f",
   "metadata": {},
   "outputs": [],
   "source": [
    "mylist.remove(2)"
   ]
  },
  {
   "cell_type": "code",
   "execution_count": 32,
   "id": "4a0b56cf-e941-4b3a-b319-b8e70a993391",
   "metadata": {},
   "outputs": [
    {
     "data": {
      "text/plain": [
       "[1, 3, 1, 2, 3]"
      ]
     },
     "execution_count": 32,
     "metadata": {},
     "output_type": "execute_result"
    }
   ],
   "source": [
    "mylist"
   ]
  },
  {
   "cell_type": "code",
   "execution_count": 35,
   "id": "34b49223-f966-416f-99af-6909fe88d069",
   "metadata": {},
   "outputs": [],
   "source": [
    "# pop(index)"
   ]
  },
  {
   "cell_type": "code",
   "execution_count": 54,
   "id": "781fd2e4-de20-4780-b16e-31f78bd5ad88",
   "metadata": {},
   "outputs": [],
   "source": [
    "mylist=[0,1,2,3,4,5,6,7,8]"
   ]
  },
  {
   "cell_type": "code",
   "execution_count": 55,
   "id": "a2cfee64-7715-4557-8703-eca7221a7cf2",
   "metadata": {},
   "outputs": [
    {
     "data": {
      "text/plain": [
       "8"
      ]
     },
     "execution_count": 55,
     "metadata": {},
     "output_type": "execute_result"
    }
   ],
   "source": [
    "mylist.pop() # default remove last item and retuen it"
   ]
  },
  {
   "cell_type": "code",
   "execution_count": 56,
   "id": "c1662b0e-c94f-4e7d-8b9d-cff2f65fc7c5",
   "metadata": {},
   "outputs": [
    {
     "data": {
      "text/plain": [
       "[0, 1, 2, 3, 4, 5, 6, 7]"
      ]
     },
     "execution_count": 56,
     "metadata": {},
     "output_type": "execute_result"
    }
   ],
   "source": [
    "mylist"
   ]
  },
  {
   "cell_type": "code",
   "execution_count": 57,
   "id": "325ba44c-9a42-4e85-9de6-4c42bb66b40e",
   "metadata": {},
   "outputs": [
    {
     "data": {
      "text/plain": [
       "4"
      ]
     },
     "execution_count": 57,
     "metadata": {},
     "output_type": "execute_result"
    }
   ],
   "source": [
    "mylist.pop(4)"
   ]
  },
  {
   "cell_type": "code",
   "execution_count": 58,
   "id": "75e308cf-9307-4b03-8c51-90f29f2cf1ec",
   "metadata": {},
   "outputs": [
    {
     "data": {
      "text/plain": [
       "[0, 1, 2, 3, 5, 6, 7]"
      ]
     },
     "execution_count": 58,
     "metadata": {},
     "output_type": "execute_result"
    }
   ],
   "source": [
    "mylist"
   ]
  },
  {
   "cell_type": "code",
   "execution_count": 59,
   "id": "e392397f-c7ee-4176-a9c0-ed5b2a138350",
   "metadata": {},
   "outputs": [],
   "source": [
    "# clear()"
   ]
  },
  {
   "cell_type": "code",
   "execution_count": 60,
   "id": "527e4eea-6015-482f-8131-6607706c3a73",
   "metadata": {},
   "outputs": [],
   "source": [
    "mylist=[0,1,2,3,4,5,6,7,8]"
   ]
  },
  {
   "cell_type": "code",
   "execution_count": 62,
   "id": "1651cd29-c84b-4814-a703-68b9294adb6e",
   "metadata": {},
   "outputs": [],
   "source": [
    "mylist.clear()"
   ]
  },
  {
   "cell_type": "code",
   "execution_count": 63,
   "id": "c54c121c-d0cc-4785-b0e6-f0d00f8e18d4",
   "metadata": {},
   "outputs": [
    {
     "data": {
      "text/plain": [
       "[]"
      ]
     },
     "execution_count": 63,
     "metadata": {},
     "output_type": "execute_result"
    }
   ],
   "source": [
    "mylist"
   ]
  },
  {
   "cell_type": "code",
   "execution_count": 64,
   "id": "834165a3-6585-4119-8cb6-9a66f9c20139",
   "metadata": {},
   "outputs": [],
   "source": [
    "# searching"
   ]
  },
  {
   "cell_type": "code",
   "execution_count": 65,
   "id": "7d06c6b4-cf96-4f51-981e-d52a55e95b62",
   "metadata": {},
   "outputs": [],
   "source": [
    "a=[8,7,6,5,4,3,2,1,0]"
   ]
  },
  {
   "cell_type": "code",
   "execution_count": 66,
   "id": "09fdd67c-10fa-4fda-b02a-5e08e11b812d",
   "metadata": {},
   "outputs": [
    {
     "data": {
      "text/plain": [
       "3"
      ]
     },
     "execution_count": 66,
     "metadata": {},
     "output_type": "execute_result"
    }
   ],
   "source": [
    "a.index(5)"
   ]
  },
  {
   "cell_type": "code",
   "execution_count": 67,
   "id": "71ca8f36-321f-432e-928b-f0d77468f068",
   "metadata": {},
   "outputs": [
    {
     "ename": "ValueError",
     "evalue": "'kk' is not in list",
     "output_type": "error",
     "traceback": [
      "\u001b[1;31m---------------------------------------------------------------------------\u001b[0m",
      "\u001b[1;31mValueError\u001b[0m                                Traceback (most recent call last)",
      "Cell \u001b[1;32mIn[67], line 1\u001b[0m\n\u001b[1;32m----> 1\u001b[0m a\u001b[38;5;241m.\u001b[39mindex(\u001b[38;5;124m'\u001b[39m\u001b[38;5;124mkk\u001b[39m\u001b[38;5;124m'\u001b[39m)\n",
      "\u001b[1;31mValueError\u001b[0m: 'kk' is not in list"
     ]
    }
   ],
   "source": [
    "a.index('kk')"
   ]
  },
  {
   "cell_type": "code",
   "execution_count": 68,
   "id": "6d351bc5-480b-43e6-9b8f-4669248f5b89",
   "metadata": {},
   "outputs": [],
   "source": [
    "a=[1,2,3,4]"
   ]
  },
  {
   "cell_type": "code",
   "execution_count": 74,
   "id": "57b2d5d0-2b72-450c-972c-f29a27303d60",
   "metadata": {},
   "outputs": [],
   "source": [
    "a[1]='KK'"
   ]
  },
  {
   "cell_type": "code",
   "execution_count": null,
   "id": "db15814b-9de8-4cd9-a264-f36a6bf40ac2",
   "metadata": {},
   "outputs": [
    {
     "data": {
      "text/plain": [
       "[1, 'KK', 3, 4]"
      ]
     },
     "execution_count": 75,
     "metadata": {},
     "output_type": "execute_result"
    }
   ],
   "source": [
    "print(\"Kunal Karne\")"
   ]
  },
  {
   "cell_type": "code",
   "execution_count": null,
   "id": "738b8f20-261e-46e2-91b4-a7865bd64c98",
   "metadata": {},
   "outputs": [],
   "source": []
  }
 ],
 "metadata": {
  "kernelspec": {
   "display_name": "Python 3 (ipykernel)",
   "language": "python",
   "name": "python3"
  },
  "language_info": {
   "codemirror_mode": {
    "name": "ipython",
    "version": 3
   },
   "file_extension": ".py",
   "mimetype": "text/x-python",
   "name": "python",
   "nbconvert_exporter": "python",
   "pygments_lexer": "ipython3",
   "version": "3.11.7"
  }
 },
 "nbformat": 4,
 "nbformat_minor": 5
}
