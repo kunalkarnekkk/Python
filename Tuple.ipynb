{
 "cells": [
  {
   "cell_type": "markdown",
   "id": "40d48a1a-ca71-494f-9366-d05b8cdcc10d",
   "metadata": {},
   "source": [
    "# Tuple"
   ]
  },
  {
   "cell_type": "code",
   "execution_count": 1,
   "id": "c6f6b313-b5b2-4561-ac52-aee7e86c4c38",
   "metadata": {},
   "outputs": [],
   "source": [
    "# ordered\n",
    "# immutable (unchangeable)\n",
    "# limited operations.\n",
    "# cant add or remove"
   ]
  },
  {
   "cell_type": "code",
   "execution_count": 2,
   "id": "b95482ab-5fdc-45f9-adca-b7f65b7fb900",
   "metadata": {},
   "outputs": [],
   "source": [
    "a=(1,2,3,'kk')"
   ]
  },
  {
   "cell_type": "code",
   "execution_count": 3,
   "id": "cf9174cc-8fdc-4b77-9694-f705af616a78",
   "metadata": {},
   "outputs": [
    {
     "data": {
      "text/plain": [
       "(1, 2, 3, 'kk')"
      ]
     },
     "execution_count": 3,
     "metadata": {},
     "output_type": "execute_result"
    }
   ],
   "source": [
    "a"
   ]
  },
  {
   "cell_type": "code",
   "execution_count": 4,
   "id": "ff054e7e-37b6-4c12-837a-df244f226816",
   "metadata": {},
   "outputs": [
    {
     "data": {
      "text/plain": [
       "'kk'"
      ]
     },
     "execution_count": 4,
     "metadata": {},
     "output_type": "execute_result"
    }
   ],
   "source": [
    "a[3]"
   ]
  },
  {
   "cell_type": "code",
   "execution_count": 5,
   "id": "2b08085b-ac8e-4c86-a9d9-d31086d930c3",
   "metadata": {},
   "outputs": [],
   "source": [
    "a=(1,2,3,'kk',3,2,1,'kk')"
   ]
  },
  {
   "cell_type": "code",
   "execution_count": 6,
   "id": "1e428e7e-4a4c-4b77-a8c5-82b2c7cb36aa",
   "metadata": {},
   "outputs": [
    {
     "data": {
      "text/plain": [
       "(1, 2, 3, 'kk', 3, 2, 1, 'kk')"
      ]
     },
     "execution_count": 6,
     "metadata": {},
     "output_type": "execute_result"
    }
   ],
   "source": [
    "a"
   ]
  },
  {
   "cell_type": "code",
   "execution_count": 7,
   "id": "9ccac301-4605-43ff-a68d-6dd480c318c3",
   "metadata": {},
   "outputs": [
    {
     "data": {
      "text/plain": [
       "3"
      ]
     },
     "execution_count": 7,
     "metadata": {},
     "output_type": "execute_result"
    }
   ],
   "source": [
    "a.index('kk') # returns index of first occurance of 'kk'"
   ]
  },
  {
   "cell_type": "code",
   "execution_count": 9,
   "id": "60b4fc8e-7996-4d7b-8a79-075d1bd3198d",
   "metadata": {},
   "outputs": [
    {
     "data": {
      "text/plain": [
       "2"
      ]
     },
     "execution_count": 9,
     "metadata": {},
     "output_type": "execute_result"
    }
   ],
   "source": [
    "a.count('kk')"
   ]
  },
  {
   "cell_type": "code",
   "execution_count": 10,
   "id": "58b1b2d5-02d2-47af-b876-9a61c55f2cd6",
   "metadata": {},
   "outputs": [
    {
     "data": {
      "text/plain": [
       "(1, 2, 3, 'kk', 3, 2, 1, 'kk')"
      ]
     },
     "execution_count": 10,
     "metadata": {},
     "output_type": "execute_result"
    }
   ],
   "source": [
    "a"
   ]
  },
  {
   "cell_type": "code",
   "execution_count": 11,
   "id": "1fe96062-4c52-4989-acdd-a47dbf904a16",
   "metadata": {},
   "outputs": [
    {
     "ename": "TypeError",
     "evalue": "'tuple' object does not support item assignment",
     "output_type": "error",
     "traceback": [
      "\u001b[1;31m---------------------------------------------------------------------------\u001b[0m",
      "\u001b[1;31mTypeError\u001b[0m                                 Traceback (most recent call last)",
      "Cell \u001b[1;32mIn[11], line 1\u001b[0m\n\u001b[1;32m----> 1\u001b[0m a[\u001b[38;5;241m1\u001b[39m]\u001b[38;5;241m=\u001b[39m\u001b[38;5;124m'\u001b[39m\u001b[38;5;124mnot upate\u001b[39m\u001b[38;5;124m'\u001b[39m\n",
      "\u001b[1;31mTypeError\u001b[0m: 'tuple' object does not support item assignment"
     ]
    }
   ],
   "source": [
    "a[1]='not upate'"
   ]
  },
  {
   "cell_type": "code",
   "execution_count": 12,
   "id": "688941f6-974b-4122-9e25-8b578b1a4ba4",
   "metadata": {},
   "outputs": [
    {
     "data": {
      "text/plain": [
       "(1, 2, 3, 'kk', 3, 2, 1, 'kk')"
      ]
     },
     "execution_count": 12,
     "metadata": {},
     "output_type": "execute_result"
    }
   ],
   "source": [
    "a"
   ]
  },
  {
   "cell_type": "code",
   "execution_count": null,
   "id": "a5ae6cc8-4d90-4b1f-837b-f300af501688",
   "metadata": {},
   "outputs": [],
   "source": []
  }
 ],
 "metadata": {
  "kernelspec": {
   "display_name": "Python 3 (ipykernel)",
   "language": "python",
   "name": "python3"
  },
  "language_info": {
   "codemirror_mode": {
    "name": "ipython",
    "version": 3
   },
   "file_extension": ".py",
   "mimetype": "text/x-python",
   "name": "python",
   "nbconvert_exporter": "python",
   "pygments_lexer": "ipython3",
   "version": "3.11.7"
  }
 },
 "nbformat": 4,
 "nbformat_minor": 5
}
