{
 "cells": [
  {
   "cell_type": "raw",
   "id": "6d2ffb14-d8e7-45f7-968d-2efd87bbcf25",
   "metadata": {},
   "source": [
    "Write a program to find the factorial of a number."
   ]
  },
  {
   "cell_type": "code",
   "execution_count": 17,
   "id": "8bc3cb86-da76-4e2b-bc80-06f3c3d287a9",
   "metadata": {},
   "outputs": [
    {
     "name": "stdin",
     "output_type": "stream",
     "text": [
      "Enter a number 6\n"
     ]
    },
    {
     "name": "stdout",
     "output_type": "stream",
     "text": [
      "720\n"
     ]
    }
   ],
   "source": [
    "def factorial(n):\n",
    "    if n==0 or n==1:\n",
    "        return 1\n",
    "    else:\n",
    "        return n*factorial(n-1)\n",
    "\n",
    "\n",
    "\n",
    "num=int(input(\"Enter a number\"))\n",
    "\n",
    "print(factorial(num))"
   ]
  },
  {
   "cell_type": "code",
   "execution_count": 22,
   "id": "401efe37-39c3-401b-a131-5bebfb6d0041",
   "metadata": {},
   "outputs": [
    {
     "name": "stdin",
     "output_type": "stream",
     "text": [
      "Enter a number 3\n"
     ]
    },
    {
     "name": "stdout",
     "output_type": "stream",
     "text": [
      "6\n"
     ]
    }
   ],
   "source": [
    "num=int(input(\"Enter a number\"))\n",
    "\n",
    "result=1\n",
    "\n",
    "for i in range (1,num+1):\n",
    "    result *= i\n",
    "\n",
    "print(result)"
   ]
  },
  {
   "cell_type": "raw",
   "id": "85228526-2fa8-42d8-b34b-46b86f37a803",
   "metadata": {},
   "source": [
    "Write a function to determine if a string is a palindrome."
   ]
  },
  {
   "cell_type": "code",
   "execution_count": 27,
   "id": "90e71a16-a891-4525-8b4b-afbfe46c5614",
   "metadata": {},
   "outputs": [
    {
     "data": {
      "text/plain": [
       "'lanuk'"
      ]
     },
     "execution_count": 27,
     "metadata": {},
     "output_type": "execute_result"
    }
   ],
   "source": [
    "str=\"kunal\"\n",
    "kk=str[-1::-1]\n",
    "kk"
   ]
  },
  {
   "cell_type": "code",
   "execution_count": 43,
   "id": "77c27a01-dd60-4208-b984-4f5fb3747a0f",
   "metadata": {},
   "outputs": [
    {
     "name": "stdin",
     "output_type": "stream",
     "text": [
      "Enter a number ala\n"
     ]
    },
    {
     "name": "stdout",
     "output_type": "stream",
     "text": [
      "palindrome\n"
     ]
    }
   ],
   "source": [
    "def palindrome(n):\n",
    "    a=n[-1::-1]\n",
    "    if n==a:\n",
    "        print(\"palindrome\")\n",
    "    else:\n",
    "        print(\"not palindrome\")\n",
    "    \n",
    "\n",
    "\n",
    "num=(input(\"Enter a number\"))\n",
    "palindrome(num)"
   ]
  },
  {
   "cell_type": "code",
   "execution_count": 45,
   "id": "b5ab4a53-a280-4e99-b075-c5ca3a930292",
   "metadata": {},
   "outputs": [
    {
     "data": {
      "text/plain": [
       "1"
      ]
     },
     "execution_count": 45,
     "metadata": {},
     "output_type": "execute_result"
    }
   ],
   "source": [
    "1%10"
   ]
  },
  {
   "cell_type": "code",
   "execution_count": 51,
   "id": "b2d72df7-cbf8-476d-9965-efeeafd16f19",
   "metadata": {},
   "outputs": [
    {
     "name": "stdin",
     "output_type": "stream",
     "text": [
      "Enter number 123\n"
     ]
    },
    {
     "name": "stdout",
     "output_type": "stream",
     "text": [
      "Not palindrome\n"
     ]
    }
   ],
   "source": [
    "def palindrome(n):\n",
    "    ori=n\n",
    "    rev=0\n",
    "    while(n>0):\n",
    "        no = n%10\n",
    "        rev=rev*10+no\n",
    "        n=n//10\n",
    "\n",
    "    if ori==rev:\n",
    "        print(\"palindrome\")\n",
    "    else:\n",
    "        print(\"Not palindrome\")\n",
    "\n",
    "palindrome(int(input(\"Enter number\")))\n",
    "        "
   ]
  },
  {
   "cell_type": "raw",
   "id": "995f7ef7-b0ed-4a8f-b696-399a409ab8ac",
   "metadata": {},
   "source": [
    "Write a program to find the largest and smallest numbers in a list."
   ]
  },
  {
   "cell_type": "code",
   "execution_count": 81,
   "id": "17d53fb7-0dad-4f12-82e0-915580312d92",
   "metadata": {},
   "outputs": [
    {
     "name": "stdout",
     "output_type": "stream",
     "text": [
      "4003\n",
      "10\n"
     ]
    }
   ],
   "source": [
    "a=[10,230,4003,540,650]\n",
    "max=0\n",
    "min=a[0]\n",
    "\n",
    "for i in range (0,len(a)):\n",
    "    if a[i]>max:\n",
    "        max=a[i]\n",
    "    if a[i]<min:\n",
    "        min=a[i]\n",
    "\n",
    "print(max)\n",
    "print(min)"
   ]
  },
  {
   "cell_type": "code",
   "execution_count": 80,
   "id": "e333b349-af46-445f-83c7-74fbfd60c976",
   "metadata": {},
   "outputs": [
    {
     "name": "stdout",
     "output_type": "stream",
     "text": [
      "2\n"
     ]
    }
   ],
   "source": [
    "a=[10,230,43,540,2]\n",
    "min=a[0]\n",
    "for i in range (0,len(a)):\n",
    "    if a[i]<min:\n",
    "        min=a[i]\n",
    "\n",
    "print(min)"
   ]
  },
  {
   "cell_type": "raw",
   "id": "fa3b00b3-f1a3-4b0e-8d85-0f635dd4a009",
   "metadata": {},
   "source": [
    "Write a function to reverse a string."
   ]
  },
  {
   "cell_type": "code",
   "execution_count": 83,
   "id": "76a33a1b-e2cf-40c1-9dc4-da30d85ec0c2",
   "metadata": {},
   "outputs": [
    {
     "name": "stdin",
     "output_type": "stream",
     "text": [
      "Ente a string kunal kundlik karne\n"
     ]
    },
    {
     "data": {
      "text/plain": [
       "'enrak kildnuk lanuk'"
      ]
     },
     "execution_count": 83,
     "metadata": {},
     "output_type": "execute_result"
    }
   ],
   "source": [
    "str=input(\"Ente a string\")\n",
    "str[-1::-1]"
   ]
  },
  {
   "cell_type": "code",
   "execution_count": 91,
   "id": "43feea40-8f68-4a61-9c08-81f38d4324a8",
   "metadata": {},
   "outputs": [
    {
     "name": "stdin",
     "output_type": "stream",
     "text": [
      "Enter a string 456\n"
     ]
    },
    {
     "name": "stdout",
     "output_type": "stream",
     "text": [
      "654\n"
     ]
    }
   ],
   "source": [
    "str=input(\"Enter a string\")\n",
    "rev=\"\"\n",
    "for char in str:\n",
    "    rev=char+rev\n",
    "\n",
    "print(rev)"
   ]
  },
  {
   "cell_type": "raw",
   "id": "70dbbfd5-901f-4aed-b03d-71a59b090401",
   "metadata": {},
   "source": [
    "Write a program to count the number of occurrences of a character in a string."
   ]
  },
  {
   "cell_type": "code",
   "execution_count": 102,
   "id": "069bf4cd-4834-4443-8b13-4a566303f2fd",
   "metadata": {},
   "outputs": [
    {
     "name": "stdin",
     "output_type": "stream",
     "text": [
      "Enter a string kunal kundlik karne\n"
     ]
    },
    {
     "name": "stdout",
     "output_type": "stream",
     "text": [
      "k=4\n",
      "u=2\n",
      "n=3\n",
      "a=2\n",
      "l=2\n",
      " =2\n",
      "k=4\n",
      "u=2\n",
      "n=3\n",
      "d=1\n",
      "l=2\n",
      "i=1\n",
      "k=4\n",
      " =2\n",
      "k=4\n",
      "a=2\n",
      "r=1\n",
      "n=3\n",
      "e=1\n"
     ]
    }
   ],
   "source": [
    "str=input(\"Enter a string\")\n",
    "for char in str:\n",
    "    count=0\n",
    "    for i in range (0,len(str)):\n",
    "        if char==str[i]:\n",
    "            count+=1\n",
    "    print(f\"{char}={count}\")\n",
    "            \n",
    "    "
   ]
  },
  {
   "cell_type": "code",
   "execution_count": 109,
   "id": "4bf722c8-466a-46e4-8ce0-8e39f01284b0",
   "metadata": {},
   "outputs": [
    {
     "name": "stdin",
     "output_type": "stream",
     "text": [
      "Enter a string kunal kundlik karne\n"
     ]
    },
    {
     "name": "stdout",
     "output_type": "stream",
     "text": [
      "k = 4\n",
      "u = 2\n",
      "n = 3\n",
      "a = 2\n",
      "l = 2\n",
      "  = 2\n",
      "d = 1\n",
      "i = 1\n",
      "r = 1\n",
      "e = 1\n"
     ]
    }
   ],
   "source": [
    "str=input(\"Enter a string\")\n",
    "kk={}\n",
    "for char in str:\n",
    "    if char in kk:\n",
    "        kk[char]+=1\n",
    "    else:\n",
    "        kk[char]=1\n",
    "\n",
    "for char,count in kk.items():\n",
    "    print(f\"{char} = {count}\")"
   ]
  },
  {
   "cell_type": "raw",
   "id": "c9d83b09-7b70-4a10-a29a-0b4dfbcd2dc5",
   "metadata": {},
   "source": [
    "Write a function to check if a number is prime."
   ]
  },
  {
   "cell_type": "code",
   "execution_count": 134,
   "id": "8b00b812-5131-4f6a-9aa4-ac715983dae3",
   "metadata": {},
   "outputs": [
    {
     "name": "stdin",
     "output_type": "stream",
     "text": [
      "Enter a nmber 13\n"
     ]
    },
    {
     "name": "stdout",
     "output_type": "stream",
     "text": [
      "prime num\n",
      "prime num\n",
      "prime num\n",
      "prime num\n",
      "prime num\n",
      "prime num\n",
      "prime num\n",
      "prime num\n",
      "prime num\n",
      "prime num\n",
      "prime num\n"
     ]
    }
   ],
   "source": [
    "num=int(input(\"Enter a nmber\"))\n",
    "for i in range(2,num):\n",
    "    if num%i==0:\n",
    "        print(\"not prime\")\n",
    "        break\n",
    "    else:\n",
    "        print(\"prime num\")"
   ]
  },
  {
   "cell_type": "code",
   "execution_count": 132,
   "id": "8f52e179-1a39-4240-b53d-68482afbe0d6",
   "metadata": {},
   "outputs": [
    {
     "name": "stdin",
     "output_type": "stream",
     "text": [
      "Enter a number:  13\n"
     ]
    },
    {
     "name": "stdout",
     "output_type": "stream",
     "text": [
      "Prime number\n"
     ]
    }
   ],
   "source": [
    "num = int(input(\"Enter a number: \"))\n",
    "if num < 2:\n",
    "    print(\"Not prime\")\n",
    "else:\n",
    "    for i in range(2, num):\n",
    "        if num % i == 0:\n",
    "            print(\"Not prime\")\n",
    "            break\n",
    "    else:\n",
    "        print(\"Prime number\")\n"
   ]
  },
  {
   "cell_type": "code",
   "execution_count": 129,
   "id": "5cd8d249-397a-436a-bb28-1ede2858f11f",
   "metadata": {},
   "outputs": [
    {
     "name": "stdin",
     "output_type": "stream",
     "text": [
      "Enter a number:  1\n"
     ]
    },
    {
     "name": "stdout",
     "output_type": "stream",
     "text": [
      "1 is not a prime number.\n"
     ]
    }
   ],
   "source": [
    "def is_prime(num):\n",
    "    if num < 2:\n",
    "        return False\n",
    "    for i in range(2, num):\n",
    "        if num % i == 0:\n",
    "            return False\n",
    "    return True\n",
    "\n",
    "num = int(input(\"Enter a number: \"))\n",
    "if is_prime(num):\n",
    "    print(f\"{num} is a prime number.\")\n",
    "else:\n",
    "    print(f\"{num} is not a prime number.\")\n"
   ]
  },
  {
   "cell_type": "raw",
   "id": "97ebb801-561b-4198-804b-d8883c82521c",
   "metadata": {},
   "source": [
    "Q. Write a program to find the sum of all the elements in a list.\n"
   ]
  },
  {
   "cell_type": "code",
   "execution_count": 135,
   "id": "38c59993-21be-4ff5-b08f-a2745e86142b",
   "metadata": {},
   "outputs": [
    {
     "data": {
      "text/plain": [
       "21"
      ]
     },
     "execution_count": 135,
     "metadata": {},
     "output_type": "execute_result"
    }
   ],
   "source": [
    "a=[1,2,3,4,5,6]\n",
    "sum(a)"
   ]
  },
  {
   "cell_type": "code",
   "execution_count": 137,
   "id": "ab3eddec-56ed-4e1a-9c55-c44eb41dc997",
   "metadata": {},
   "outputs": [
    {
     "name": "stdout",
     "output_type": "stream",
     "text": [
      "21\n"
     ]
    }
   ],
   "source": [
    "a=[1,2,3,4,5,6]\n",
    "#len(a)\n",
    "sum=0\n",
    "for i in range(0,len(a)):\n",
    "    sum+=a[i]\n",
    "\n",
    "print(sum)  "
   ]
  },
  {
   "cell_type": "code",
   "execution_count": 138,
   "id": "13e3b73b-4da0-4ea9-8da8-82c0ebf21a9f",
   "metadata": {},
   "outputs": [
    {
     "name": "stdout",
     "output_type": "stream",
     "text": [
      "21\n"
     ]
    }
   ],
   "source": [
    "a=[1,2,3,4,5,6]\n",
    "sum=0\n",
    "for num in a:\n",
    "    sum+=num\n",
    "print(sum)"
   ]
  },
  {
   "cell_type": "raw",
   "id": "218b3a00-d613-45b6-abb2-b8a6c2856117",
   "metadata": {},
   "source": [
    "Q. Write a function to sort a list of integers in ascending or descending order.\n"
   ]
  },
  {
   "cell_type": "code",
   "execution_count": null,
   "id": "f2e18568-e4b7-4df8-90e2-480532f11db8",
   "metadata": {},
   "outputs": [],
   "source": []
  },
  {
   "cell_type": "code",
   "execution_count": 4,
   "id": "daa9767c-93a7-44fc-8f41-1c5115201d38",
   "metadata": {},
   "outputs": [
    {
     "data": {
      "text/plain": [
       "[3, 4, 0, 6, 2, 9]"
      ]
     },
     "execution_count": 4,
     "metadata": {},
     "output_type": "execute_result"
    }
   ],
   "source": [
    "a=[2,3,9,0,6,4]\n",
    "for i in range(-1,len(a)-1):\n",
    "    if a[i]>a[i+1]:\n",
    "        a[i],a[i+1]=a[i+1],a[i]\n",
    "\n",
    "a\n",
    "    "
   ]
  },
  {
   "cell_type": "code",
   "execution_count": 6,
   "id": "92c71b2b-0078-442e-a83f-88d85ea74abb",
   "metadata": {},
   "outputs": [
    {
     "data": {
      "text/plain": [
       "3"
      ]
     },
     "execution_count": 6,
     "metadata": {},
     "output_type": "execute_result"
    }
   ],
   "source": [
    "5-1-1"
   ]
  },
  {
   "cell_type": "code",
   "execution_count": 7,
   "id": "57e879f4-ab2f-4b7f-b5aa-28ee0f3b224d",
   "metadata": {},
   "outputs": [
    {
     "name": "stdout",
     "output_type": "stream",
     "text": [
      "0\n",
      "1\n",
      "2\n",
      "3\n"
     ]
    }
   ],
   "source": [
    "for i in range (0,4):\n",
    "    print(i)"
   ]
  },
  {
   "cell_type": "raw",
   "id": "ca7f0f76-c6fa-4369-8574-d58c4ecccfc4",
   "metadata": {},
   "source": [
    "Q.Write a program to find the length of the longest common prefix in a list of strings."
   ]
  },
  {
   "cell_type": "code",
   "execution_count": 25,
   "id": "9faac835-fd3e-4acf-8b4b-a7316090cfd1",
   "metadata": {},
   "outputs": [
    {
     "name": "stdin",
     "output_type": "stream",
     "text": [
      "Enter a list of strings kunal,kundlik,kundal\n"
     ]
    }
   ],
   "source": [
    "str=input(\"Enter a list of strings\").split(\",\")"
   ]
  },
  {
   "cell_type": "code",
   "execution_count": 26,
   "id": "4a5b2ab8-bd77-4b48-bf0c-7beeb727167f",
   "metadata": {},
   "outputs": [],
   "source": [
    "str.sort()"
   ]
  },
  {
   "cell_type": "code",
   "execution_count": 27,
   "id": "70ee1e1f-9d06-4181-9a40-573583525155",
   "metadata": {},
   "outputs": [
    {
     "data": {
      "text/plain": [
       "['kunal', 'kundal', 'kundlik']"
      ]
     },
     "execution_count": 27,
     "metadata": {},
     "output_type": "execute_result"
    }
   ],
   "source": [
    "str"
   ]
  },
  {
   "cell_type": "code",
   "execution_count": 28,
   "id": "777ef9c8-cb57-47ce-9c58-e201aca92c22",
   "metadata": {},
   "outputs": [
    {
     "name": "stdout",
     "output_type": "stream",
     "text": [
      "3\n"
     ]
    }
   ],
   "source": [
    "first=str[0]\n",
    "last=str[-1]\n",
    "i=0\n",
    "\n",
    "while i<len(first) and i<len(last) and first[i] == last[i]:\n",
    "    i+=1\n",
    "\n",
    "print(i)"
   ]
  },
  {
   "cell_type": "raw",
   "id": "f6645b90-1db8-4b3d-b134-07c2f6120790",
   "metadata": {},
   "source": [
    "Q.10 Write a function to calculate the nth Fibonacci number."
   ]
  },
  {
   "cell_type": "code",
   "execution_count": 30,
   "id": "5f7b8af6-0184-4ab7-a21d-458d31fb3830",
   "metadata": {},
   "outputs": [
    {
     "name": "stdout",
     "output_type": "stream",
     "text": [
      "0 1 1\n"
     ]
    }
   ],
   "source": [
    "old=0\n",
    "new=1\n",
    "newest=old+new\n",
    "#old=new\n",
    "print(old,new,newest)"
   ]
  },
  {
   "cell_type": "code",
   "execution_count": 45,
   "id": "14f6d979-e750-4086-a637-957d21a5a499",
   "metadata": {},
   "outputs": [],
   "source": [
    "old=new\n",
    "new=newest\n",
    "newest=old+new"
   ]
  },
  {
   "cell_type": "code",
   "execution_count": 47,
   "id": "efb3487b-0b12-461b-8c7a-e70abbb15876",
   "metadata": {},
   "outputs": [
    {
     "name": "stdout",
     "output_type": "stream",
     "text": [
      "21 34 55\n"
     ]
    }
   ],
   "source": [
    "print(old,new,newest)"
   ]
  },
  {
   "cell_type": "code",
   "execution_count": 3,
   "id": "f95a0e44-d598-40b9-88e7-3c2a6ffe9603",
   "metadata": {},
   "outputs": [
    {
     "name": "stdin",
     "output_type": "stream",
     "text": [
      "Enter N value 10\n"
     ]
    },
    {
     "name": "stdout",
     "output_type": "stream",
     "text": [
      "2\n",
      "3\n",
      "5\n",
      "8\n",
      "13\n",
      "21\n",
      "34\n",
      "55\n",
      "89\n",
      "144\n"
     ]
    }
   ],
   "source": [
    "num=int(input(\"Enter N value\"))\n",
    "old=0\n",
    "new=1\n",
    "newest=old+new\n",
    "for i in range (0,num):\n",
    "    old=new\n",
    "    new=newest\n",
    "    newest=old+new\n",
    "    print(newest)\n",
    "    \n",
    "    "
   ]
  },
  {
   "cell_type": "raw",
   "id": "845327a0-1360-42eb-b47c-6d01eb3e9901",
   "metadata": {},
   "source": [
    "def febSeries(old,new,n):\n",
    "    for i in range(old,n):\n",
    "        #print(old)\n",
    "        #print(new)\n",
    "        newest=old+new\n",
    "        old=new\n",
    "        new=newest\n",
    "        print(newest)\n",
    "\n",
    "\n",
    "num1=int(input(\"Enter num1:\"))\n",
    "num2=int(input(\"Enter num2:\"))\n",
    "num3=int(input(\"Nth term of fabinocii series\"))\n",
    "febSeries(num1,num2,num3)"
   ]
  },
  {
   "cell_type": "code",
   "execution_count": null,
   "id": "22a1ab7c-639b-4e8a-9802-fb59cb08afc4",
   "metadata": {},
   "outputs": [],
   "source": []
  },
  {
   "cell_type": "code",
   "execution_count": 19,
   "id": "f74d4f16-8413-4c10-9bb2-05b6f6517070",
   "metadata": {},
   "outputs": [
    {
     "name": "stdout",
     "output_type": "stream",
     "text": [
      "144\n"
     ]
    }
   ],
   "source": [
    "# Function for nth fibonacci number - Space Optimisation\n",
    "# Taking 1st two fibonacci numbers as 0 and 1\n",
    "\n",
    "\n",
    "def fibonacci(n):\n",
    "    a = 0\n",
    "    b = 1\n",
    "    if n < 0:\n",
    "        print(\"Incorrect input\")\n",
    "    elif n == 0:\n",
    "        return a\n",
    "    elif n == 1:\n",
    "        return b\n",
    "    else:\n",
    "        for i in range(2, n+1):\n",
    "            c = a + b\n",
    "            a = b\n",
    "            b = c\n",
    "        return b\n",
    "\n",
    "# Driver Program\n",
    "\n",
    "\n",
    "print(fibonacci(12))\n",
    "\n",
    "# This code is contributed by Saket Modi\n"
   ]
  },
  {
   "cell_type": "code",
   "execution_count": 20,
   "id": "7b01ddc5-b3c1-49e4-bb65-b75079408d1f",
   "metadata": {},
   "outputs": [
    {
     "name": "stdin",
     "output_type": "stream",
     "text": [
      "Enter nth number 9\n"
     ]
    },
    {
     "name": "stdout",
     "output_type": "stream",
     "text": [
      "1\n",
      "2\n",
      "3\n",
      "5\n",
      "8\n",
      "13\n",
      "21\n",
      "34\n"
     ]
    }
   ],
   "source": [
    "def febinocii(n):\n",
    "    a=0\n",
    "    b=1\n",
    "    if n<0:\n",
    "        print(\"Incorrect input\")\n",
    "    elif n==0:\n",
    "        print(a)\n",
    "    elif n==2:\n",
    "        print(b)\n",
    "    else:\n",
    "        for i in range(2,n+1):\n",
    "            c=a+b\n",
    "            a=b\n",
    "            b=c\n",
    "            print(b)\n",
    "\n",
    "\n",
    "febinocii(int(input(\"Enter nth number\")))"
   ]
  },
  {
   "cell_type": "raw",
   "id": "5bb4c23e-fbd9-4205-a4ee-f5f9525300f0",
   "metadata": {},
   "source": [
    "Q.11 Write a program to remove duplicates from a list."
   ]
  },
  {
   "cell_type": "code",
   "execution_count": 6,
   "id": "d1257b63-c1a4-4b1a-80f9-ff0ed04b4d0d",
   "metadata": {},
   "outputs": [
    {
     "name": "stdin",
     "output_type": "stream",
     "text": [
      "Enter a string 1,1\n"
     ]
    }
   ],
   "source": [
    "a=input(\"Enter a string\").split(\",\")"
   ]
  },
  {
   "cell_type": "code",
   "execution_count": null,
   "id": "65e1bdc6-10ff-4ea4-a24e-25d4fa1e015e",
   "metadata": {},
   "outputs": [],
   "source": []
  },
  {
   "cell_type": "code",
   "execution_count": null,
   "id": "e400cf2a-aaf4-4251-b45b-0633c77717df",
   "metadata": {},
   "outputs": [],
   "source": []
  }
 ],
 "metadata": {
  "kernelspec": {
   "display_name": "Python 3 (ipykernel)",
   "language": "python",
   "name": "python3"
  },
  "language_info": {
   "codemirror_mode": {
    "name": "ipython",
    "version": 3
   },
   "file_extension": ".py",
   "mimetype": "text/x-python",
   "name": "python",
   "nbconvert_exporter": "python",
   "pygments_lexer": "ipython3",
   "version": "3.11.7"
  }
 },
 "nbformat": 4,
 "nbformat_minor": 5
}
