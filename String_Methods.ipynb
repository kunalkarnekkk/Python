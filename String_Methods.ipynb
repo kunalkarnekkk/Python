{
 "cells": [
  {
   "cell_type": "code",
   "execution_count": 1,
   "id": "e066e24d-1dd5-4f14-861e-6dd3fd2b08ed",
   "metadata": {},
   "outputs": [],
   "source": [
    "# Capitalize"
   ]
  },
  {
   "cell_type": "code",
   "execution_count": 11,
   "id": "e85220d3-ce54-437c-8113-ec66c76fa107",
   "metadata": {},
   "outputs": [],
   "source": [
    "str=\"My name is kunal. i am 24 years Old\""
   ]
  },
  {
   "cell_type": "code",
   "execution_count": 12,
   "id": "687552a2-e8a0-4f7e-a412-c9e0e199086a",
   "metadata": {},
   "outputs": [
    {
     "data": {
      "text/plain": [
       "'My name is kunal. i am 24 years old'"
      ]
     },
     "execution_count": 12,
     "metadata": {},
     "output_type": "execute_result"
    }
   ],
   "source": [
    "str.capitalize()"
   ]
  },
  {
   "cell_type": "code",
   "execution_count": 13,
   "id": "75896466-0634-4585-9f08-868f28da5a0b",
   "metadata": {},
   "outputs": [],
   "source": [
    "#lower"
   ]
  },
  {
   "cell_type": "code",
   "execution_count": 14,
   "id": "8395c6e7-7c85-45e2-8494-561ef3092ff6",
   "metadata": {},
   "outputs": [],
   "source": [
    "str=\"MY NAME IS KUNAL\""
   ]
  },
  {
   "cell_type": "code",
   "execution_count": 15,
   "id": "6b6e1a3b-e108-4fad-9749-ac125b643613",
   "metadata": {},
   "outputs": [
    {
     "data": {
      "text/plain": [
       "'my name is kunal'"
      ]
     },
     "execution_count": 15,
     "metadata": {},
     "output_type": "execute_result"
    }
   ],
   "source": [
    "str.lower()"
   ]
  },
  {
   "cell_type": "code",
   "execution_count": 16,
   "id": "61f70290-011f-440e-9c9a-54009488ccbc",
   "metadata": {},
   "outputs": [],
   "source": [
    "#upper"
   ]
  },
  {
   "cell_type": "code",
   "execution_count": 17,
   "id": "51958652-6cd6-4678-841c-d86985d80fbd",
   "metadata": {},
   "outputs": [],
   "source": [
    "str='my name is kunal'"
   ]
  },
  {
   "cell_type": "code",
   "execution_count": 19,
   "id": "694faf90-fa9d-4a8c-b5b5-9a390e5b0d52",
   "metadata": {},
   "outputs": [
    {
     "data": {
      "text/plain": [
       "'MY NAME IS KUNAL'"
      ]
     },
     "execution_count": 19,
     "metadata": {},
     "output_type": "execute_result"
    }
   ],
   "source": [
    "str.upper()"
   ]
  },
  {
   "cell_type": "code",
   "execution_count": 20,
   "id": "31b6d7a2-ef66-4c13-910c-5427439c2167",
   "metadata": {},
   "outputs": [],
   "source": [
    "# swapcase()"
   ]
  },
  {
   "cell_type": "code",
   "execution_count": 21,
   "id": "8927df15-ae60-42cf-9bcf-196127edaed1",
   "metadata": {},
   "outputs": [],
   "source": [
    "str='mY NAME is Kunal'"
   ]
  },
  {
   "cell_type": "code",
   "execution_count": 22,
   "id": "d618d226-2058-49c1-a36f-9a0dee9295d9",
   "metadata": {},
   "outputs": [
    {
     "data": {
      "text/plain": [
       "'My name IS kUNAL'"
      ]
     },
     "execution_count": 22,
     "metadata": {},
     "output_type": "execute_result"
    }
   ],
   "source": [
    "str.swapcase()"
   ]
  },
  {
   "cell_type": "code",
   "execution_count": 23,
   "id": "ac0e3523-27e5-4a5e-8e91-cc6f1411b943",
   "metadata": {},
   "outputs": [],
   "source": [
    "# strip()"
   ]
  },
  {
   "cell_type": "code",
   "execution_count": 24,
   "id": "88054bdb-085f-4aa2-8bf3-6ad3058c2225",
   "metadata": {},
   "outputs": [],
   "source": [
    "str='                kunal              \\n'"
   ]
  },
  {
   "cell_type": "code",
   "execution_count": 28,
   "id": "b14e567c-b94d-4dcd-99bf-0eeb3d2db961",
   "metadata": {},
   "outputs": [
    {
     "data": {
      "text/plain": [
       "'                kunal'"
      ]
     },
     "execution_count": 28,
     "metadata": {},
     "output_type": "execute_result"
    }
   ],
   "source": [
    "str.rstrip()"
   ]
  },
  {
   "cell_type": "code",
   "execution_count": 29,
   "id": "c5aad797-74b7-41d1-8e0d-c026b26bed67",
   "metadata": {},
   "outputs": [],
   "source": [
    "# replace"
   ]
  },
  {
   "cell_type": "code",
   "execution_count": 1,
   "id": "0e7d1450-ab85-4097-9454-b80db35694f0",
   "metadata": {},
   "outputs": [],
   "source": [
    "str='I am kk, kk means xyz'"
   ]
  },
  {
   "cell_type": "code",
   "execution_count": 2,
   "id": "ec5d7b58-49a7-46ed-bc00-34bcfaa37f6a",
   "metadata": {},
   "outputs": [],
   "source": [
    "kk=str.replace(str,'abc',2)"
   ]
  },
  {
   "cell_type": "code",
   "execution_count": 3,
   "id": "92fd53a8-689c-426c-b6cb-64a66837b104",
   "metadata": {},
   "outputs": [
    {
     "data": {
      "text/plain": [
       "'abc'"
      ]
     },
     "execution_count": 3,
     "metadata": {},
     "output_type": "execute_result"
    }
   ],
   "source": [
    "kk"
   ]
  },
  {
   "cell_type": "code",
   "execution_count": 39,
   "id": "59f925c6-cf74-4c0c-be95-bc7b95c6e236",
   "metadata": {},
   "outputs": [],
   "source": [
    "#find"
   ]
  },
  {
   "cell_type": "code",
   "execution_count": 40,
   "id": "c5e7a435-3521-409c-9582-13ec1da0ca40",
   "metadata": {},
   "outputs": [],
   "source": [
    "str='abcdefghijklmnopqrstuvwxyz'"
   ]
  },
  {
   "cell_type": "code",
   "execution_count": 41,
   "id": "278e840c-bc74-4632-9ba0-ca521f94aad2",
   "metadata": {},
   "outputs": [
    {
     "data": {
      "text/plain": [
       "1"
      ]
     },
     "execution_count": 41,
     "metadata": {},
     "output_type": "execute_result"
    }
   ],
   "source": [
    "str.find('b')"
   ]
  },
  {
   "cell_type": "code",
   "execution_count": 43,
   "id": "5a51663c-51a5-47e7-afd4-727e099b35e7",
   "metadata": {},
   "outputs": [
    {
     "data": {
      "text/plain": [
       "'bcde'"
      ]
     },
     "execution_count": 43,
     "metadata": {},
     "output_type": "execute_result"
    }
   ],
   "source": [
    "str[1:5]"
   ]
  },
  {
   "cell_type": "code",
   "execution_count": 44,
   "id": "3adb9374-1e48-482e-85b9-8adc8fe84079",
   "metadata": {},
   "outputs": [],
   "source": [
    "#split"
   ]
  },
  {
   "cell_type": "code",
   "execution_count": 57,
   "id": "c9d94d31-c434-4353-858d-03c8be443de1",
   "metadata": {},
   "outputs": [],
   "source": [
    "str='This is ,si@mple sentences'"
   ]
  },
  {
   "cell_type": "code",
   "execution_count": 58,
   "id": "93ccf913-6c72-451d-9e0a-c45977889f6d",
   "metadata": {},
   "outputs": [
    {
     "data": {
      "text/plain": [
       "['This is ,si', 'mple sentences']"
      ]
     },
     "execution_count": 58,
     "metadata": {},
     "output_type": "execute_result"
    }
   ],
   "source": [
    "str.split('@')"
   ]
  },
  {
   "cell_type": "code",
   "execution_count": 60,
   "id": "e2f04d70-033e-41a7-806a-e080b36d68c9",
   "metadata": {},
   "outputs": [],
   "source": [
    "#JOin"
   ]
  },
  {
   "cell_type": "code",
   "execution_count": 59,
   "id": "f109e744-e040-46b6-8f83-cc7a3c389406",
   "metadata": {},
   "outputs": [],
   "source": [
    "kk=['i','am','kunal']"
   ]
  },
  {
   "cell_type": "code",
   "execution_count": 67,
   "id": "e1c6305a-a3cf-40d7-b983-d81c12d2ee84",
   "metadata": {},
   "outputs": [
    {
     "data": {
      "text/plain": [
       "'i/am/kunal'"
      ]
     },
     "execution_count": 67,
     "metadata": {},
     "output_type": "execute_result"
    }
   ],
   "source": [
    "'/'.join(kk)"
   ]
  },
  {
   "cell_type": "code",
   "execution_count": 2,
   "id": "66abf345-871b-4690-8f3b-3e1edbb7aa82",
   "metadata": {},
   "outputs": [],
   "source": [
    "x1=[3,1,2,4,0,5]\n"
   ]
  },
  {
   "cell_type": "markdown",
   "id": "2d484da7-d0a2-4113-9851-9eabb24e03b2",
   "metadata": {},
   "source": [
    "#### Q.Write a program that prompts the user to enter a sentence and then prints out each word in uppercase. For example, if the user enters \"hello world\", the program should print out \"HELLO WORLD\".\n"
   ]
  },
  {
   "cell_type": "code",
   "execution_count": 1,
   "id": "928975ca-8321-4067-8a37-67c0b3eadb30",
   "metadata": {},
   "outputs": [
    {
     "data": {
      "text/plain": [
       "'HELLO WORLD'"
      ]
     },
     "execution_count": 1,
     "metadata": {},
     "output_type": "execute_result"
    }
   ],
   "source": [
    "a=\"hello world\"\n",
    "a.upper()"
   ]
  },
  {
   "cell_type": "markdown",
   "id": "8e8c71d6-6cdd-4e46-b44d-0eb388f5a3ca",
   "metadata": {},
   "source": [
    "#### Q.2 Write a program that reads in a list of names from a file and converts each name to uppercase before printing it out. The names in the file are separated by commas. For example, if the file contains \"John, Mary, Susan\", the program should print out \"JOHN\", \"MARY\", and \"SUSAN\".\n"
   ]
  },
  {
   "cell_type": "code",
   "execution_count": 11,
   "id": "5afda2e2-6213-4e3b-9a4a-246fbb9ab39d",
   "metadata": {},
   "outputs": [
    {
     "data": {
      "text/plain": [
       "3"
      ]
     },
     "execution_count": 11,
     "metadata": {},
     "output_type": "execute_result"
    }
   ],
   "source": [
    "a=153\n",
    "b=len(str(a))\n",
    "b"
   ]
  },
  {
   "cell_type": "code",
   "execution_count": 12,
   "id": "cf98ad59-9f97-4bdc-9fbc-776696c209ed",
   "metadata": {},
   "outputs": [
    {
     "data": {
      "text/plain": [
       "2"
      ]
     },
     "execution_count": 12,
     "metadata": {},
     "output_type": "execute_result"
    }
   ],
   "source": [
    "5//2"
   ]
  },
  {
   "cell_type": "code",
   "execution_count": 35,
   "id": "36a3f4e9-cb53-481f-8d61-e61b7168e4d7",
   "metadata": {},
   "outputs": [
    {
     "data": {
      "text/plain": [
       "['JOHN,', 'MARY,', 'SUSAN']"
      ]
     },
     "execution_count": 35,
     "metadata": {},
     "output_type": "execute_result"
    }
   ],
   "source": []
  },
  {
   "cell_type": "code",
   "execution_count": 36,
   "id": "893bb5e0-d428-43a9-b74a-c190bf6bc023",
   "metadata": {},
   "outputs": [
    {
     "name": "stdout",
     "output_type": "stream",
     "text": [
      "JOHN\n",
      "MARY\n",
      "SUSAN\n"
     ]
    }
   ],
   "source": [
    "# Define the list of names as a string\n",
    "names_string = \"John, Mary, Susan\"\n",
    "\n",
    "# Split the string into a list of names\n",
    "names_list = names_string.split(', ')\n",
    "\n",
    "# Convert each name to uppercase and print it\n",
    "for name in names_list:\n",
    "    print(name.upper())\n"
   ]
  },
  {
   "cell_type": "markdown",
   "id": "ff72dd67-f376-4ba4-adc5-d557816e7952",
   "metadata": {},
   "source": [
    "#### Q.3 Write a function that takes a string as input and returns a list of all the words in the string that are longer than a specified length. The function should take two arguments: the string and the minimum length of a word. For example, if the input string is \"The quick brown fox jumps over the lazy dog\" and the minimum length is 4, the function should return [\"quick\", \"brown\", \"jumps\"].\n"
   ]
  },
  {
   "cell_type": "code",
   "execution_count": 136,
   "id": "1be0079d-bf6d-49bc-a130-6a0c2717ef97",
   "metadata": {},
   "outputs": [],
   "source": [
    "def q3():\n",
    "    a=input(\"Enter a string\")\n",
    "    b=int(input('Enter minimum length:'))\n",
    "    c=a.split()\n",
    "    \n",
    "    print(a)\n",
    "    print(b)\n",
    "    print(c)\n",
    "    d=[]\n",
    "    for word in c:\n",
    "        if(len(word)>b):\n",
    "            d.append(word)\n",
    "    return d"
   ]
  },
  {
   "cell_type": "code",
   "execution_count": 137,
   "id": "34a11dea-fc27-41f1-baa2-03584585a9b7",
   "metadata": {},
   "outputs": [
    {
     "name": "stdin",
     "output_type": "stream",
     "text": [
      "Enter a string The quick brown fox jumps over the lazy dog\n",
      "Enter minimum length: 4\n"
     ]
    },
    {
     "name": "stdout",
     "output_type": "stream",
     "text": [
      "The quick brown fox jumps over the lazy dog\n",
      "4\n",
      "['The', 'quick', 'brown', 'fox', 'jumps', 'over', 'the', 'lazy', 'dog']\n"
     ]
    },
    {
     "data": {
      "text/plain": [
       "['quick', 'brown', 'jumps']"
      ]
     },
     "execution_count": 137,
     "metadata": {},
     "output_type": "execute_result"
    }
   ],
   "source": [
    "q3"
   ]
  },
  {
   "cell_type": "code",
   "execution_count": 115,
   "id": "51c0643e-a752-469b-a7a8-0439cb02f80a",
   "metadata": {},
   "outputs": [
    {
     "name": "stdout",
     "output_type": "stream",
     "text": [
      "['quick', 'brown', 'jumps']\n"
     ]
    }
   ],
   "source": [
    "def longer_words(input_string, min_length):\n",
    "    # Split the input string into words\n",
    "    words = input_string.split()\n",
    "    \n",
    "    # Initialize an empty list to store words longer than the specified length\n",
    "    longer_words_list = []\n",
    "    \n",
    "    # Iterate through each word in the list of words\n",
    "    for word in words:\n",
    "        # Check if the length of the word is greater than the specified minimum length\n",
    "        if len(word) > min_length:\n",
    "            # If the word is longer than the specified length, add it to the list\n",
    "            longer_words_list.append(word)\n",
    "    \n",
    "    # Return the list of longer words\n",
    "    return longer_words_list\n",
    "\n",
    "# Test the function\n",
    "input_string = \"The quick brown fox jumps over the lazy dog\"\n",
    "min_length = 4\n",
    "result = longer_words(input_string, min_length)\n",
    "print(result)\n",
    "\n"
   ]
  },
  {
   "cell_type": "code",
   "execution_count": 66,
   "id": "90ad2c3d-4c1b-4d55-bf56-031163e97fea",
   "metadata": {},
   "outputs": [],
   "source": [
    "b=a.split()"
   ]
  },
  {
   "cell_type": "code",
   "execution_count": 68,
   "id": "52a642a3-827a-4664-b453-b67f73795f53",
   "metadata": {},
   "outputs": [
    {
     "data": {
      "text/plain": [
       "['kfnk', 'j', 'dsj']"
      ]
     },
     "execution_count": 68,
     "metadata": {},
     "output_type": "execute_result"
    }
   ],
   "source": [
    "b    "
   ]
  },
  {
   "cell_type": "code",
   "execution_count": 74,
   "id": "94a3cfbf-6bbe-4b81-8df3-ebcfd099fc3f",
   "metadata": {},
   "outputs": [
    {
     "name": "stdout",
     "output_type": "stream",
     "text": [
      "kfnk\n",
      "dsj\n"
     ]
    }
   ],
   "source": [
    "for word in b:\n",
    "    if(len(word)>=2):\n",
    "        print(word)\n"
   ]
  },
  {
   "cell_type": "markdown",
   "id": "cfaec3c3-3010-47ac-8f3f-4f684934f1cc",
   "metadata": {},
   "source": [
    "#### Q4. Write a program that reads in a list of names from the user, separated by commas, and then prints out the number of names that begin with a vowel. For example, if the user enters \"Anna, Bob, Charlie, David, Emily\", the program should print out \"2\".\n"
   ]
  },
  {
   "cell_type": "code",
   "execution_count": 41,
   "id": "746e759e-efd5-4614-9e99-ff0c09f5a6f0",
   "metadata": {},
   "outputs": [],
   "source": [
    "s=\"Anna, Bob, Charlie, David, Emily\""
   ]
  },
  {
   "cell_type": "code",
   "execution_count": 42,
   "id": "fb06a91c-462f-4c60-bac3-f47a73628c85",
   "metadata": {},
   "outputs": [],
   "source": [
    "new_s=s.split()"
   ]
  },
  {
   "cell_type": "code",
   "execution_count": 43,
   "id": "c44f0590-7e94-4a38-9ece-96bfb53e35bf",
   "metadata": {},
   "outputs": [
    {
     "data": {
      "text/plain": [
       "'A'"
      ]
     },
     "execution_count": 43,
     "metadata": {},
     "output_type": "execute_result"
    }
   ],
   "source": [
    "new_s[0][0]"
   ]
  },
  {
   "cell_type": "code",
   "execution_count": 44,
   "id": "dcd420f2-81d4-49ba-adb4-44663201bd47",
   "metadata": {},
   "outputs": [],
   "source": [
    "count=0"
   ]
  },
  {
   "cell_type": "code",
   "execution_count": 45,
   "id": "f1b4ea9d-4b09-4220-abf5-ce0ea83ff022",
   "metadata": {},
   "outputs": [
    {
     "name": "stdout",
     "output_type": "stream",
     "text": [
      "2\n"
     ]
    }
   ],
   "source": [
    "for s in new_s:\n",
    "    if s[0].lower() in 'aeiou':\n",
    "        count+=1\n",
    "print(count)"
   ]
  },
  {
   "cell_type": "code",
   "execution_count": 49,
   "id": "1f5a1048-89ec-448c-a5a5-b0b237ff6be9",
   "metadata": {},
   "outputs": [
    {
     "name": "stdin",
     "output_type": "stream",
     "text": [
      "Enter a list of names separated by commas:  apple leke aao\n"
     ]
    },
    {
     "name": "stdout",
     "output_type": "stream",
     "text": [
      "Number of names that begin with a vowel: 1\n"
     ]
    }
   ],
   "source": [
    "# Step 1: Read input from the user\n",
    "names_input = input(\"Enter a list of names separated by commas: \")\n",
    "\n",
    "# Step 2: Split the input string into individual names\n",
    "names_list = names_input.split(',')\n",
    "\n",
    "# Step 3: Initialize count for names starting with a vowel\n",
    "count_vowel_starters = 0\n",
    "\n",
    "# Step 4: Define vowels\n",
    "vowels = 'aeiou'\n",
    "\n",
    "# Step 5: Iterate through each name in names_list\n",
    "for name in names_list:\n",
    "    # Remove leading and trailing whitespace from the name\n",
    "    name = name.strip()\n",
    "    # Check if the name is not empty and starts with a vowel\n",
    "    if name and name[0].lower() in vowels:\n",
    "        count_vowel_starters += 1\n",
    "\n",
    "# Step 6: Print the count of names that start with a vowel\n",
    "print(f\"Number of names that begin with a vowel: {count_vowel_starters}\")\n"
   ]
  },
  {
   "cell_type": "markdown",
   "id": "bf29702a-6428-43b5-a82d-ba06fc690e7b",
   "metadata": {},
   "source": [
    "#### Q.5 Write a function that takes a string as input and returns the string with all the vowels converted to uppercase. For example, if the input string is \"hello world\", the function should return \"hEllO wOrld\"."
   ]
  },
  {
   "cell_type": "code",
   "execution_count": 55,
   "id": "31b417de-da20-46bd-848d-09f7445916fb",
   "metadata": {},
   "outputs": [
    {
     "name": "stdin",
     "output_type": "stream",
     "text": [
      "ENter a string jbjad\n"
     ]
    },
    {
     "name": "stdout",
     "output_type": "stream",
     "text": [
      "JBJAD\n"
     ]
    }
   ],
   "source": [
    "def upperfn(instr):\n",
    "    #a=input('Enter a String:')\\\n",
    "    if\n",
    "    b=instr.upper()\n",
    "    return b\n",
    "\n",
    "\n",
    "str=input('ENter a string')\n",
    "result=upperfn(str)\n",
    "print(result)"
   ]
  },
  {
   "cell_type": "markdown",
   "id": "558f322c-9b78-49c9-a484-7a992b4ca09f",
   "metadata": {},
   "source": [
    "#### Q.6 Write a program that reads in a list of words from the user, separated by spaces, and then prints out the length of the longest word. For example, if the user enters \"the quick brown fox jumps over the lazy dog\", the program should print out \"5\"."
   ]
  },
  {
   "cell_type": "code",
   "execution_count": 17,
   "id": "044be541-04f4-457c-a00d-e176ca98c31a",
   "metadata": {},
   "outputs": [
    {
     "name": "stdin",
     "output_type": "stream",
     "text": [
      "Enter String the quick brown fox jumps over the lazy dog\n"
     ]
    },
    {
     "name": "stdout",
     "output_type": "stream",
     "text": [
      "5\n"
     ]
    }
   ],
   "source": [
    "str=input(\"Enter String\")\n",
    "max_len=0\n",
    "words=str.split()\n",
    "for word in words:\n",
    "    if(len(word)>max_len):\n",
    "        max_len=len(word)\n",
    "\n",
    "print(max_len)\n",
    "#print(\"kk\",count)"
   ]
  },
  {
   "cell_type": "code",
   "execution_count": 20,
   "id": "3dd134c4-3be5-4808-95f9-e838ef2108bb",
   "metadata": {},
   "outputs": [
    {
     "name": "stdin",
     "output_type": "stream",
     "text": [
      "Enter a String the quick brown fox jumps over the lazy dog\n"
     ]
    },
    {
     "name": "stdout",
     "output_type": "stream",
     "text": [
      "5\n"
     ]
    }
   ],
   "source": [
    "str=input(\"Enter a String\")\n",
    "cur_len=0\n",
    "max_len=0\n",
    "\n",
    "for word in str:\n",
    "    if word != ' ':\n",
    "        cur_len+=1\n",
    "    else:\n",
    "        if(cur_len>max_len):\n",
    "            max_len=cur_len\n",
    "        cur_len=0\n",
    "\n",
    "if cur_len>max_len:\n",
    "    max_len=cur_len\n",
    "\n",
    "print(max_len)"
   ]
  },
  {
   "cell_type": "markdown",
   "id": "d0103276-ee00-4d83-b404-c735924af7c7",
   "metadata": {},
   "source": [
    "#### Q.7 Write a Python program to count the number of words in a string using split()"
   ]
  },
  {
   "cell_type": "code",
   "execution_count": 21,
   "id": "eba10bf5-ac10-489a-940c-cd471dc9ba81",
   "metadata": {},
   "outputs": [
    {
     "name": "stdin",
     "output_type": "stream",
     "text": [
      "Enter a String Write a Python program to count the number of words in a string using split()\n"
     ]
    },
    {
     "name": "stdout",
     "output_type": "stream",
     "text": [
      "15\n"
     ]
    }
   ],
   "source": [
    "str=input(\"Enter a String\")\n",
    "words=str.split()\n",
    "count=0\n",
    "for word in words:\n",
    "    count+=1\n",
    "\n",
    "print(count)"
   ]
  },
  {
   "cell_type": "markdown",
   "id": "87d46845-8dca-4ce5-ad35-f8ef0a569cde",
   "metadata": {},
   "source": [
    "#### Q.8 Write a Python program to reverse the order of words in a string using split()."
   ]
  },
  {
   "cell_type": "code",
   "execution_count": 28,
   "id": "29e818a2-c9c4-4dd3-9d60-33cd0dd060eb",
   "metadata": {},
   "outputs": [
    {
     "name": "stdin",
     "output_type": "stream",
     "text": [
      "Enter a String the quick brown fox jumps over the lazy dog\n"
     ]
    },
    {
     "name": "stdout",
     "output_type": "stream",
     "text": [
      "dog\n",
      "lazy\n",
      "the\n",
      "over\n",
      "jumps\n",
      "fox\n",
      "brown\n",
      "quick\n",
      "the\n"
     ]
    }
   ],
   "source": [
    "str=input('Enter a String')\n",
    "words=str.split()\n",
    "for i in words[::-1]:\n",
    "    print(i)"
   ]
  },
  {
   "cell_type": "code",
   "execution_count": 34,
   "id": "a25a8e24-6afc-4f1f-8fcb-91c18c7f2a11",
   "metadata": {},
   "outputs": [],
   "source": [
    "rev=words[::-1]"
   ]
  },
  {
   "cell_type": "code",
   "execution_count": 35,
   "id": "4cf863f6-0ec1-4808-b2c0-f54af306dd0e",
   "metadata": {},
   "outputs": [
    {
     "data": {
      "text/plain": [
       "['dog', 'lazy', 'the', 'over', 'jumps', 'fox', 'brown', 'quick', 'the']"
      ]
     },
     "execution_count": 35,
     "metadata": {},
     "output_type": "execute_result"
    }
   ],
   "source": [
    "rev"
   ]
  },
  {
   "cell_type": "code",
   "execution_count": 36,
   "id": "65221de6-51e7-4da0-a6dc-32296f93652d",
   "metadata": {},
   "outputs": [
    {
     "data": {
      "text/plain": [
       "'dog lazy the over jumps fox brown quick the'"
      ]
     },
     "execution_count": 36,
     "metadata": {},
     "output_type": "execute_result"
    }
   ],
   "source": [
    "rev_str=' '.join(rev)\n",
    "rev_str"
   ]
  },
  {
   "cell_type": "code",
   "execution_count": 33,
   "id": "15dd97bd-a90a-4402-b0ce-9ab23317c618",
   "metadata": {},
   "outputs": [
    {
     "name": "stdin",
     "output_type": "stream",
     "text": [
      "Enter a string:  the quick brown fox jumps over the lazy dog\n"
     ]
    },
    {
     "name": "stdout",
     "output_type": "stream",
     "text": [
      "dog lazy the over jumps fox brown quick the\n"
     ]
    }
   ],
   "source": [
    "# Read input from the user\n",
    "input_string = input(\"Enter a string: \")\n",
    "\n",
    "# Split the input string into a list of words\n",
    "words = input_string.split()\n",
    "\n",
    "# Reverse the list of words\n",
    "reversed_words = words[::-1]\n",
    "\n",
    "# Join the reversed list of words into a single string\n",
    "reversed_string = ' '.join(reversed_words)\n",
    "\n",
    "# Print the reversed string\n",
    "print(reversed_string)\n"
   ]
  },
  {
   "cell_type": "markdown",
   "id": "b9d55ec5-2509-49ba-9ef7-e7505d18ab95",
   "metadata": {},
   "source": [
    "#### Q.9 Write a Python function that takes a list of strings and concatenates them into a single string with a comma and space between each string.\n"
   ]
  },
  {
   "cell_type": "code",
   "execution_count": 2,
   "id": "701270bf-ae53-4e3b-be42-ef03e57fe73c",
   "metadata": {},
   "outputs": [
    {
     "name": "stdin",
     "output_type": "stream",
     "text": [
      "Enter Length and width : 5 10\n"
     ]
    },
    {
     "name": "stdout",
     "output_type": "stream",
     "text": [
      "5\n",
      "10\n"
     ]
    }
   ],
   "source": [
    "length,breadth=map(int,input(\"Enter Length and width :\").split())\n",
    "print(length)\n",
    "print(breadth)"
   ]
  },
  {
   "cell_type": "code",
   "execution_count": 17,
   "id": "d77bf3d7-0b24-4aff-89ef-fe0e4f5a415e",
   "metadata": {},
   "outputs": [
    {
     "name": "stdin",
     "output_type": "stream",
     "text": [
      "Enter String sd asd as \n"
     ]
    },
    {
     "data": {
      "text/plain": [
       "'sd, asd, as'"
      ]
     },
     "execution_count": 17,
     "metadata": {},
     "output_type": "execute_result"
    }
   ],
   "source": [
    "def ex():\n",
    "    a=[]\n",
    "    a=input('Enter String').split()\n",
    "    a\n",
    "    b=', '.join(a)\n",
    "    return b\n",
    "    \n",
    "ex()"
   ]
  },
  {
   "cell_type": "markdown",
   "id": "b506db74-b60e-415b-b3e6-58fba3b568d1",
   "metadata": {},
   "source": [
    "#### Q.10 Write a Python program that prompts the user to enter their first and last name, and then prints a greeting message with their full name\n"
   ]
  },
  {
   "cell_type": "code",
   "execution_count": 24,
   "id": "e9e2aaf0-f262-4155-9c84-48ab60496154",
   "metadata": {},
   "outputs": [
    {
     "name": "stdin",
     "output_type": "stream",
     "text": [
      "Enter first and last name k k\n"
     ]
    },
    {
     "name": "stdout",
     "output_type": "stream",
     "text": [
      "Good Morning k and also k\n"
     ]
    }
   ],
   "source": [
    "fname,lname=(input(\"Enter first and last name\").split())\n",
    "print(f\"Good Morning { fname} and also { lname}\")"
   ]
  },
  {
   "cell_type": "markdown",
   "id": "3a210e3f-2452-4c4d-8def-132c197ec0b4",
   "metadata": {},
   "source": [
    "#### Q.11 Write a Python function that takes two strings and concatenates them, but only if the second string starts with the first three letters of the first string. Otherwise, the function should return the original first string."
   ]
  },
  {
   "cell_type": "code",
   "execution_count": 9,
   "id": "244c5834-ecaf-41fa-be1f-914f276643f2",
   "metadata": {},
   "outputs": [
    {
     "name": "stdin",
     "output_type": "stream",
     "text": [
      "Enter First String abc jhsba\n",
      "Enter Second string njkadh jhgd\n"
     ]
    },
    {
     "name": "stdout",
     "output_type": "stream",
     "text": [
      "abc jhsba\n"
     ]
    }
   ],
   "source": [
    "str1=input('Enter First String')\n",
    "str2=input('Enter Second string')\n",
    "\n",
    "\n",
    "if str1[:4]==str2[:4]:\n",
    "    print(str1 + str2)\n",
    "else:\n",
    "    print(str1)"
   ]
  },
  {
   "cell_type": "markdown",
   "id": "0ac9a5b5-bfc7-47be-906f-6c757880cefc",
   "metadata": {},
   "source": [
    "#### Q.13 Write a Python program that asks the user to enter a string and then prints the length of the string.\n"
   ]
  },
  {
   "cell_type": "code",
   "execution_count": 11,
   "id": "5e0a921a-42eb-41c8-b5cc-be2d10717bb9",
   "metadata": {},
   "outputs": [
    {
     "name": "stdin",
     "output_type": "stream",
     "text": [
      "Enter String kunal karne\n"
     ]
    },
    {
     "name": "stdout",
     "output_type": "stream",
     "text": [
      "11\n"
     ]
    },
    {
     "data": {
      "text/plain": [
       "11"
      ]
     },
     "execution_count": 11,
     "metadata": {},
     "output_type": "execute_result"
    }
   ],
   "source": [
    "str=input(\"Enter String\")\n",
    "count=0\n",
    "for l in str:\n",
    "    count+=1\n",
    "\n",
    "print(count)\n",
    "#len(str)"
   ]
  },
  {
   "cell_type": "markdown",
   "id": "1d94d085-0bd4-46a7-9eb6-9ddc9663d906",
   "metadata": {},
   "source": [
    "#### Q.14 Write a Python program that asks the user to enter a string and then prints the string in uppercase"
   ]
  },
  {
   "cell_type": "code",
   "execution_count": 12,
   "id": "7e87342f-f656-4c82-8319-8ba7b51b07aa",
   "metadata": {},
   "outputs": [
    {
     "name": "stdin",
     "output_type": "stream",
     "text": [
      "Enter a string kunal karne\n"
     ]
    },
    {
     "data": {
      "text/plain": [
       "'KUNAL KARNE'"
      ]
     },
     "execution_count": 12,
     "metadata": {},
     "output_type": "execute_result"
    }
   ],
   "source": [
    "str=input('Enter a string')\n",
    "str.upper()"
   ]
  },
  {
   "cell_type": "markdown",
   "id": "abebe5f9-f88b-413d-a4be-7e5170431d70",
   "metadata": {},
   "source": [
    "#### Q.16 Write a Python program that asks the user to enter a string and then removes any whitespace from the beginning and end of the string"
   ]
  },
  {
   "cell_type": "markdown",
   "id": "cf4588e9-fc36-4d20-bd9d-dd3e0cd44e01",
   "metadata": {},
   "source": [
    "str=input('Enter a string')\n",
    "str.strip()"
   ]
  },
  {
   "cell_type": "markdown",
   "id": "6a6f4017-96e5-4569-baf8-8193c82c399a",
   "metadata": {},
   "source": [
    "#### Q.17 Write a Python program that asks the user to enter a string and a substring. The program should then replace all occurrences of the substring with a new string and print the resulting string."
   ]
  },
  {
   "cell_type": "code",
   "execution_count": 15,
   "id": "b5807348-dbbd-4448-a5da-d76b0cbe0eaa",
   "metadata": {},
   "outputs": [
    {
     "name": "stdin",
     "output_type": "stream",
     "text": [
      "Enter a string kunal kundlik karne\n",
      "Ente a sub-string which you want to replace ku,kk\n"
     ]
    },
    {
     "data": {
      "text/plain": [
       "'kknal kkndlik karne'"
      ]
     },
     "execution_count": 15,
     "metadata": {},
     "output_type": "execute_result"
    }
   ],
   "source": [
    "str=input('Enter a string')\n",
    "sub_str,rep_str=input(\"Ente a sub-string which you want to replace\").split(\",\")\n",
    "\n",
    "str.replace(sub_str,rep_str)"
   ]
  },
  {
   "cell_type": "markdown",
   "id": "b6830c23-25e0-4d57-9e32-53bd5344324d",
   "metadata": {},
   "source": [
    "#### Q.18 Write a Python program that asks the user to enter a string and then splits the string into a list of words. The program should then print each word on a separate line.\n"
   ]
  },
  {
   "cell_type": "code",
   "execution_count": 20,
   "id": "25dc73ca-44ef-414a-b17a-22f1fbb1e997",
   "metadata": {},
   "outputs": [
    {
     "name": "stdin",
     "output_type": "stream",
     "text": [
      "Enter string kunal kundlik karne\n"
     ]
    },
    {
     "name": "stdout",
     "output_type": "stream",
     "text": [
      "kunal\n",
      "kundlik\n",
      "karne\n"
     ]
    }
   ],
   "source": [
    "str=input('Enter string')\n",
    "a=str.split()\n",
    "for word in a:\n",
    "    print(word)"
   ]
  },
  {
   "cell_type": "code",
   "execution_count": 1,
   "id": "e1ccca45-3cfa-4dbd-83ad-fb4d495bfd01",
   "metadata": {},
   "outputs": [
    {
     "name": "stdout",
     "output_type": "stream",
     "text": [
      "2\n"
     ]
    }
   ],
   "source": [
    "x = [1, 2, 3]\n",
    "y = map(lambda n: n+1, x)\n",
    "print(list(y)[0])"
   ]
  },
  {
   "cell_type": "code",
   "execution_count": 3,
   "id": "e78f7f8f-5085-41a0-8f3e-179f6e772527",
   "metadata": {},
   "outputs": [
    {
     "name": "stdout",
     "output_type": "stream",
     "text": [
      "[[...]]\n"
     ]
    }
   ],
   "source": [
    "def func(x=[]):\n",
    "    x.append(x)\n",
    "    return x\n",
    "y = func()\n",
    "print(y)"
   ]
  },
  {
   "cell_type": "code",
   "execution_count": null,
   "id": "5cc5cf69-c6df-4dd3-98c7-7b14c0523ea9",
   "metadata": {},
   "outputs": [],
   "source": []
  }
 ],
 "metadata": {
  "kernelspec": {
   "display_name": "Python 3 (ipykernel)",
   "language": "python",
   "name": "python3"
  },
  "language_info": {
   "codemirror_mode": {
    "name": "ipython",
    "version": 3
   },
   "file_extension": ".py",
   "mimetype": "text/x-python",
   "name": "python",
   "nbconvert_exporter": "python",
   "pygments_lexer": "ipython3",
   "version": "3.11.7"
  }
 },
 "nbformat": 4,
 "nbformat_minor": 5
}
