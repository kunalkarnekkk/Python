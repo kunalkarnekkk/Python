{
 "cells": [
  {
   "cell_type": "markdown",
   "id": "d85e58ba-9f38-4d1b-98dc-cb81a7b0e17a",
   "metadata": {},
   "source": [
    "### Q.How would you confirm that 2 strings have the same identity?"
   ]
  },
  {
   "cell_type": "code",
   "execution_count": 4,
   "id": "e3fda2dd-ec5c-4f63-bfb9-288d452d49fb",
   "metadata": {},
   "outputs": [
    {
     "name": "stdin",
     "output_type": "stream",
     "text": [
      "Enter a string 1: asdfg\n",
      "Enter s dtring 2: asdfg\n"
     ]
    },
    {
     "name": "stdout",
     "output_type": "stream",
     "text": [
      "identical\n"
     ]
    }
   ],
   "source": [
    "str1=input(\"Enter a string 1:\")\n",
    "str2=input(\"Enter s dtring 2:\")\n",
    "\n",
    "if str1==str2:\n",
    "    print('identical')\n",
    "else:\n",
    "    print('non-identical')"
   ]
  },
  {
   "cell_type": "markdown",
   "id": "370015b6-535c-40c9-897f-8d85f4467bf5",
   "metadata": {},
   "source": [
    "### Q.Check if a string contains a specific substring"
   ]
  },
  {
   "cell_type": "code",
   "execution_count": 7,
   "id": "202d8581-8176-4334-bf8b-d7ec34882724",
   "metadata": {},
   "outputs": [
    {
     "name": "stdin",
     "output_type": "stream",
     "text": [
      "enter a string My country name is India\n",
      "enter substring name is india\n"
     ]
    },
    {
     "name": "stdout",
     "output_type": "stream",
     "text": [
      "not-present\n"
     ]
    }
   ],
   "source": [
    "str1=input(\"enter a string\")\n",
    "str2=input(\"enter substring\")\n",
    "if str2 in str1:\n",
    "    print(\"present\")\n",
    "else:\n",
    "    print(\"not-present\")"
   ]
  },
  {
   "cell_type": "markdown",
   "id": "bdd47047-5997-424c-8429-066ea71022b8",
   "metadata": {},
   "source": [
    "### Q.How would you check if each word in a string begins with a capital letter?"
   ]
  },
  {
   "cell_type": "code",
   "execution_count": 35,
   "id": "d93f2fc3-cf04-4185-b9ce-6e0feceaaa4d",
   "metadata": {},
   "outputs": [
    {
     "name": "stdin",
     "output_type": "stream",
     "text": [
      "enter a string L\n"
     ]
    },
    {
     "name": "stdout",
     "output_type": "stream",
     "text": [
      "same\n"
     ]
    }
   ],
   "source": [
    "str1=input(\"enter a string\")\n",
    "if str1==str1.title():\n",
    "    print('same')\n",
    "else:\n",
    "    print(\"not same\")"
   ]
  },
  {
   "cell_type": "markdown",
   "id": "3ae15259-8bca-481a-bb5a-eb7fc9958c00",
   "metadata": {},
   "source": [
    "### Q.Find the index of the first occurrence of a substring in a string"
   ]
  },
  {
   "cell_type": "code",
   "execution_count": 32,
   "id": "178259b0-0369-403d-b5b5-a67ab8e41252",
   "metadata": {},
   "outputs": [
    {
     "name": "stdin",
     "output_type": "stream",
     "text": [
      "Enter a string my name is kk and her name is also kk\n",
      "Enter substring kk\n"
     ]
    },
    {
     "data": {
      "text/plain": [
       "11"
      ]
     },
     "execution_count": 32,
     "metadata": {},
     "output_type": "execute_result"
    }
   ],
   "source": [
    "str1=input(\"Enter a string\")\n",
    "str2=input(\"Enter substring\")\n",
    "str1.index(str2)"
   ]
  },
  {
   "cell_type": "code",
   "execution_count": 64,
   "id": "af0e9922-0384-4036-acf4-3394e6b417ca",
   "metadata": {},
   "outputs": [
    {
     "data": {
      "text/plain": [
       "3"
      ]
     },
     "execution_count": 64,
     "metadata": {},
     "output_type": "execute_result"
    }
   ],
   "source": [
    "# Example string\n",
    "text = \"Helkklo, kk i am kk!\"\n",
    "\n",
    "# Substring to find\n",
    "substring = \"kk\"\n",
    "\n",
    "# Find the index of the first occurrence\n",
    "text.find(substring)\n",
    "\n"
   ]
  },
  {
   "cell_type": "markdown",
   "id": "8f8ffb38-8c78-4580-9363-8c8d6d5451ef",
   "metadata": {},
   "source": [
    "### Q.Count the total number of characters in a string"
   ]
  },
  {
   "cell_type": "code",
   "execution_count": 73,
   "id": "0b51281e-a8e8-4922-a374-5c3b47983a75",
   "metadata": {},
   "outputs": [
    {
     "name": "stdin",
     "output_type": "stream",
     "text": [
      "Enter a string kunal karne\n"
     ]
    },
    {
     "name": "stdout",
     "output_type": "stream",
     "text": [
      "10\n"
     ]
    }
   ],
   "source": [
    "str=input(\"Enter a string\")\n",
    "cnt=0\n",
    "for i in str:\n",
    "    if i==\" \":\n",
    "        continue\n",
    "    cnt+=1\n",
    "print(cnt)"
   ]
  },
  {
   "cell_type": "markdown",
   "id": "547d0bf7-411f-4c6d-bb16-582cbf283181",
   "metadata": {},
   "source": [
    "### Q.Count the number of a specific character in a string"
   ]
  },
  {
   "cell_type": "code",
   "execution_count": 101,
   "id": "f7079c66-483c-4af3-88d6-23c5fd3b4aa5",
   "metadata": {},
   "outputs": [
    {
     "name": "stdin",
     "output_type": "stream",
     "text": [
      "Enter a string kunal kundlik karne\n",
      "specific character k\n"
     ]
    },
    {
     "name": "stdout",
     "output_type": "stream",
     "text": [
      "4\n"
     ]
    }
   ],
   "source": [
    "str1=input(\"Enter a string\")\n",
    "str2=input(\"specific character\")\n",
    "cnt=0\n",
    "for i in range(len(str1)):\n",
    "    if str1[i]==str2:\n",
    "        cnt+=1\n",
    "\n",
    "print(cnt)"
   ]
  },
  {
   "cell_type": "markdown",
   "id": "df6dafad-7616-4450-942d-16c5bb47fce7",
   "metadata": {},
   "source": [
    "### Q.Capitalize the first character of a string"
   ]
  },
  {
   "cell_type": "code",
   "execution_count": 102,
   "id": "22eed6e9-7b87-4234-bf70-238ef07d707b",
   "metadata": {},
   "outputs": [
    {
     "name": "stdin",
     "output_type": "stream",
     "text": [
      "Enter a string kunal karne\n"
     ]
    },
    {
     "data": {
      "text/plain": [
       "'Kunal karne'"
      ]
     },
     "execution_count": 102,
     "metadata": {},
     "output_type": "execute_result"
    }
   ],
   "source": [
    "str=input(\"Enter a string\")\n",
    "str.capitalize()"
   ]
  },
  {
   "cell_type": "markdown",
   "id": "dac8338d-1a62-42e7-b495-dbdb77f42c91",
   "metadata": {},
   "source": [
    "### Q.Check if a string contains only numbers"
   ]
  },
  {
   "cell_type": "code",
   "execution_count": 1,
   "id": "13b62d30-d896-4baa-9a5a-cf1a8933fa32",
   "metadata": {},
   "outputs": [
    {
     "data": {
      "text/plain": [
       "True"
      ]
     },
     "execution_count": 1,
     "metadata": {},
     "output_type": "execute_result"
    }
   ],
   "source": [
    "str1=\"123\"\n",
    "str1.isnumeric()"
   ]
  },
  {
   "cell_type": "code",
   "execution_count": 2,
   "id": "d5120989-d0e3-4500-b505-4a84d6db1e89",
   "metadata": {},
   "outputs": [
    {
     "name": "stdout",
     "output_type": "stream",
     "text": [
      "True\n"
     ]
    }
   ],
   "source": [
    "for i in range(len(str1)):\n",
    "    if not '0'<=str1[i]<='9':\n",
    "        print(False)\n",
    "        break\n",
    "else:\n",
    "    print(True)"
   ]
  },
  {
   "cell_type": "code",
   "execution_count": null,
   "id": "af6e9b86-7326-4dd1-a01d-54aec63c3a5a",
   "metadata": {},
   "outputs": [],
   "source": []
  },
  {
   "cell_type": "raw",
   "id": "0d7d1545-debc-4c63-8c60-dc44875f3210",
   "metadata": {},
   "source": [
    "str1=\"2345\"\n",
    "b=str1.split()\n",
    "a=['1','2','3','4','5','6','7','8','9','0']\n",
    "if b in a:\n",
    "    print(\"yes\")\n",
    "else:\n",
    "    print('false')"
   ]
  },
  {
   "cell_type": "markdown",
   "id": "82bdce6e-aa48-4113-be05-7ce27784c860",
   "metadata": {},
   "source": [
    "### Q.Split a string on a specific character"
   ]
  },
  {
   "cell_type": "code",
   "execution_count": 6,
   "id": "25657628-b4bd-4c92-9cb2-8c60a6cff731",
   "metadata": {},
   "outputs": [
    {
     "name": "stdin",
     "output_type": "stream",
     "text": [
      "enter a string kunal kundlik karne\n"
     ]
    },
    {
     "data": {
      "text/plain": [
       "['', 'unal ', 'undli', ' ', 'arne']"
      ]
     },
     "execution_count": 6,
     "metadata": {},
     "output_type": "execute_result"
    }
   ],
   "source": [
    "str1=input(\"enter a string\")\n",
    "str1.split(\"k\")"
   ]
  },
  {
   "cell_type": "code",
   "execution_count": 7,
   "id": "82fb98ec-f557-4d4b-8974-006268040bef",
   "metadata": {},
   "outputs": [
    {
     "name": "stdin",
     "output_type": "stream",
     "text": [
      "Enter a string kunal kundlik karne\n"
     ]
    },
    {
     "data": {
      "text/plain": [
       "['kunal', 'kundlik', 'karne']"
      ]
     },
     "execution_count": 7,
     "metadata": {},
     "output_type": "execute_result"
    }
   ],
   "source": [
    "str1=input(\"Enter a string\")\n",
    "str1.split(\" \")"
   ]
  },
  {
   "cell_type": "markdown",
   "id": "4eb1b8e9-61e9-4144-96ec-4fed8138253e",
   "metadata": {},
   "source": [
    "str1-input(\"enter string\")\n",
    "str2=input(\"enter sepeartor\")\n",
    "str1.split(f'{str2}')"
   ]
  },
  {
   "cell_type": "markdown",
   "id": "b63e0029-c0fa-421a-900c-03e32499df6c",
   "metadata": {},
   "source": [
    "### Q.Check if a string is composed of all lower case characters"
   ]
  },
  {
   "cell_type": "code",
   "execution_count": 15,
   "id": "a28affe6-c059-4069-9b77-13145fa72fb2",
   "metadata": {},
   "outputs": [
    {
     "name": "stdin",
     "output_type": "stream",
     "text": [
      "Enter a string kunal@123\n"
     ]
    },
    {
     "name": "stdout",
     "output_type": "stream",
     "text": [
      "all lower chars\n"
     ]
    }
   ],
   "source": [
    "str1=input(\"Enter a string\")\n",
    "if str1==str1.lower():\n",
    "    print('all lower chars')\n",
    "else:\n",
    "    print('mixed char')"
   ]
  },
  {
   "cell_type": "markdown",
   "id": "d1cf5de6-b41f-477e-b4e6-482ace177f03",
   "metadata": {},
   "source": [
    "### Q.Check if the first character in a string is lowercase"
   ]
  },
  {
   "cell_type": "code",
   "execution_count": 37,
   "id": "9ea399f7-cfb1-4e5a-a1a5-f08f375e6ea3",
   "metadata": {},
   "outputs": [
    {
     "data": {
      "text/plain": [
       "'k'"
      ]
     },
     "execution_count": 37,
     "metadata": {},
     "output_type": "execute_result"
    }
   ],
   "source": [
    "str1=\"kunal\"\n",
    "str1[0]"
   ]
  },
  {
   "cell_type": "code",
   "execution_count": 41,
   "id": "32414ec0-c37e-40f0-b677-0114c576d4d5",
   "metadata": {},
   "outputs": [
    {
     "name": "stdin",
     "output_type": "stream",
     "text": [
      "Enter a string Kunal\n"
     ]
    },
    {
     "name": "stdout",
     "output_type": "stream",
     "text": [
      "first is not small\n"
     ]
    }
   ],
   "source": [
    "str1=input(\"Enter a string\")\n",
    "if str1[0]==str1[0].lower():\n",
    "    print('first small letter')\n",
    "else:\n",
    "    print('first is not small')"
   ]
  },
  {
   "cell_type": "markdown",
   "id": "e660d86a-4895-4a6c-a9e3-5d65196ef39f",
   "metadata": {},
   "source": [
    "str1=input(\"Enter a string\")\n",
    "i=0\n",
    "for i in range (len(str1)):\n",
    "    if str1[i]==str1[i].lower():\n",
    "        print('first letter small')\n",
    "        break\n",
    "    else:\n",
    "        print('not small letter')\n",
    "        break"
   ]
  },
  {
   "cell_type": "code",
   "execution_count": 47,
   "id": "98c92a62-c4af-40e4-923e-962fb3ec700f",
   "metadata": {},
   "outputs": [
    {
     "name": "stdin",
     "output_type": "stream",
     "text": [
      "Enter a string Kunal\n"
     ]
    },
    {
     "name": "stdout",
     "output_type": "stream",
     "text": [
      "1st isnt small\n"
     ]
    }
   ],
   "source": [
    "str1=input(\"Enter a string\")\n",
    "if 'a'<=str1[0]<='z':\n",
    "    print('1st is lower')\n",
    "else:\n",
    "    print('1st isnt small')"
   ]
  },
  {
   "cell_type": "raw",
   "id": "a01c91aa-8a50-438f-b3ef-67f551072329",
   "metadata": {},
   "source": [
    "str1=input(\"Enter a string\")\n",
    "if str1!=str1.capitalize():\n",
    "    print('True')\n",
    "else:\n",
    "    print(\"false\")"
   ]
  },
  {
   "cell_type": "raw",
   "id": "8aa70025-6f2b-4b7d-91ee-a54be22d2c5b",
   "metadata": {},
   "source": [
    "str='kunal'\n",
    "for i in str:\n",
    "    print(str[i])"
   ]
  },
  {
   "cell_type": "markdown",
   "id": "482ffc8e-0827-44c0-b2d5-8762488c61df",
   "metadata": {},
   "source": [
    "### Q.Can an integer be added to a string in Python?"
   ]
  },
  {
   "cell_type": "code",
   "execution_count": 55,
   "id": "e2e430fe-05ce-443b-a322-8c380a547ec6",
   "metadata": {},
   "outputs": [
    {
     "data": {
      "text/plain": [
       "'1232'"
      ]
     },
     "execution_count": 55,
     "metadata": {},
     "output_type": "execute_result"
    }
   ],
   "source": [
    "str1='123'\n",
    "str2='2'\n",
    "str1+str2\n",
    "#str1*str2\n",
    "#str1-str2"
   ]
  },
  {
   "cell_type": "markdown",
   "id": "2d50b1a2-5342-455a-a8d6-2c07173f55d3",
   "metadata": {},
   "source": [
    "### Q.Reverse the string “hello world”"
   ]
  },
  {
   "cell_type": "code",
   "execution_count": 16,
   "id": "968be27a-8fd0-4f01-9b2e-d586b3417d5f",
   "metadata": {},
   "outputs": [
    {
     "name": "stdin",
     "output_type": "stream",
     "text": [
      "Enter a string kunal\n"
     ]
    },
    {
     "data": {
      "text/plain": [
       "'lanuk'"
      ]
     },
     "execution_count": 16,
     "metadata": {},
     "output_type": "execute_result"
    }
   ],
   "source": [
    "str1=input(\"Enter a string\")\n",
    "str1[::-1]"
   ]
  },
  {
   "cell_type": "code",
   "execution_count": 40,
   "id": "50764de1-6222-4fa5-ac01-2e09abac2716",
   "metadata": {
    "scrolled": true
   },
   "outputs": [
    {
     "name": "stdin",
     "output_type": "stream",
     "text": [
      "Enter a string asdfghjkl\n"
     ]
    },
    {
     "name": "stdout",
     "output_type": "stream",
     "text": [
      "lkjhgfdsa\n"
     ]
    }
   ],
   "source": [
    "str1=input(\"Enter a string\")\n",
    "rev=\"\"\n",
    "for char in str1:\n",
    "    rev=char+rev\n",
    "\n",
    "print(rev)"
   ]
  },
  {
   "cell_type": "code",
   "execution_count": 36,
   "id": "e44bdf4a-d138-4ff5-868a-6543a22331d8",
   "metadata": {
    "scrolled": true
   },
   "outputs": [
    {
     "name": "stdin",
     "output_type": "stream",
     "text": [
      "Enter a string:  kunal karne\n"
     ]
    },
    {
     "name": "stdout",
     "output_type": "stream",
     "text": [
      "['kunal', 'karne']\n",
      "lanuk enrak \n"
     ]
    }
   ],
   "source": [
    "str1 = input(\"Enter a string: \")\n",
    "words=str1.split(\" \")\n",
    "print(words)\n",
    "rev=\"\"\n",
    "for word in words:\n",
    "    reversed_word = \"\"\n",
    "    for char in word:\n",
    "        reversed_word = char + reversed_word  \n",
    "    rev += reversed_word + \" \"  \n",
    "print(rev)\n",
    "    "
   ]
  },
  {
   "cell_type": "code",
   "execution_count": 32,
   "id": "7c31d290-7bf4-4e6d-bba7-0d7204e0d86d",
   "metadata": {},
   "outputs": [
    {
     "name": "stdin",
     "output_type": "stream",
     "text": [
      "Enter a string:  kunal karne\n"
     ]
    },
    {
     "name": "stdout",
     "output_type": "stream",
     "text": [
      "lanuk enrak\n"
     ]
    }
   ],
   "source": [
    "str1 = input(\"Enter a string: \")\n",
    "words = str1.split(\" \")\n",
    "rev = \"\"\n",
    "\n",
    "for word in words:\n",
    "    reversed_word = \"\"\n",
    "    for char in word:\n",
    "        reversed_word = char + reversed_word  # Reverse each word\n",
    "    rev += reversed_word + \" \"  # Add the reversed word and a space\n",
    "\n",
    "rev = rev.strip()  # Remove the trailing space at the end\n",
    "print(rev)\n"
   ]
  },
  {
   "cell_type": "markdown",
   "id": "2db22578-3d5b-40a2-bc37-ce35d6d92b77",
   "metadata": {},
   "source": [
    "### Q.Join a list of strings into a single string, delimited by hyphens"
   ]
  },
  {
   "cell_type": "code",
   "execution_count": 39,
   "id": "aa85daab-8f21-4342-b5ac-90736ed4390e",
   "metadata": {},
   "outputs": [
    {
     "name": "stdin",
     "output_type": "stream",
     "text": [
      "Enter a string Div\n",
      "Enter string C\n"
     ]
    },
    {
     "ename": "TypeError",
     "evalue": "str.join() takes exactly one argument (2 given)",
     "output_type": "error",
     "traceback": [
      "\u001b[1;31m---------------------------------------------------------------------------\u001b[0m",
      "\u001b[1;31mTypeError\u001b[0m                                 Traceback (most recent call last)",
      "Cell \u001b[1;32mIn[39], line 3\u001b[0m\n\u001b[0;32m      1\u001b[0m str1\u001b[38;5;241m=\u001b[39m\u001b[38;5;28minput\u001b[39m(\u001b[38;5;124m\"\u001b[39m\u001b[38;5;124mEnter a string\u001b[39m\u001b[38;5;124m\"\u001b[39m)\n\u001b[0;32m      2\u001b[0m str2\u001b[38;5;241m=\u001b[39m\u001b[38;5;28minput\u001b[39m(\u001b[38;5;124m\"\u001b[39m\u001b[38;5;124mEnter string\u001b[39m\u001b[38;5;124m\"\u001b[39m)\n\u001b[1;32m----> 3\u001b[0m str1\u001b[38;5;241m.\u001b[39mjoin(str2,\u001b[38;5;124m\"\u001b[39m\u001b[38;5;124m-\u001b[39m\u001b[38;5;124m\"\u001b[39m)\n",
      "\u001b[1;31mTypeError\u001b[0m: str.join() takes exactly one argument (2 given)"
     ]
    }
   ],
   "source": [
    "str1=input(\"Enter a string\")\n",
    "str2=input(\"Enter string\")\n",
    "str1.join(str2,\"-\")"
   ]
  },
  {
   "cell_type": "code",
   "execution_count": 41,
   "id": "bc3068b1-638c-420b-b696-e53fe972ff22",
   "metadata": {},
   "outputs": [
    {
     "data": {
      "text/plain": [
       "'I-N-D-I-A'"
      ]
     },
     "execution_count": 41,
     "metadata": {},
     "output_type": "execute_result"
    }
   ],
   "source": [
    "str1=[\"I\",\"N\",\"D\",'I',\"A\"]\n",
    "\"-\".join(str1)"
   ]
  },
  {
   "cell_type": "markdown",
   "id": "0ec7aa51-49ac-4f4c-b536-b0fdb40a4a7e",
   "metadata": {},
   "source": [
    "#### Q.Uppercase or lowercase an entire string"
   ]
  },
  {
   "cell_type": "code",
   "execution_count": 44,
   "id": "28e8591f-65b6-4d8a-87c1-5adf183522ac",
   "metadata": {},
   "outputs": [
    {
     "name": "stdout",
     "output_type": "stream",
     "text": [
      "kunal karne\n",
      "KUNAL KARNE\n"
     ]
    }
   ],
   "source": [
    "str1=\"Kunal karne\"\n",
    "print(str1.lower())\n",
    "print(str1.upper())"
   ]
  },
  {
   "cell_type": "markdown",
   "id": "546dd28d-e239-4897-839b-8d2c7046f508",
   "metadata": {},
   "source": [
    "### Q.Uppercase first and last character of a string"
   ]
  },
  {
   "cell_type": "code",
   "execution_count": 50,
   "id": "406a0893-1ee4-401e-a5c1-ffcd97677ce2",
   "metadata": {},
   "outputs": [
    {
     "name": "stdin",
     "output_type": "stream",
     "text": [
      "Enter a string kunal karne\n"
     ]
    },
    {
     "name": "stdout",
     "output_type": "stream",
     "text": [
      "K\n",
      "E\n"
     ]
    }
   ],
   "source": [
    "str1=input(\"Enter a string\")\n",
    "print(str1[0].upper())\n",
    "a=len(str1)\n",
    "print(str1[a-1].upper())"
   ]
  },
  {
   "cell_type": "code",
   "execution_count": 51,
   "id": "283a8e91-18cf-492d-a674-987bc446cfb3",
   "metadata": {},
   "outputs": [
    {
     "name": "stdin",
     "output_type": "stream",
     "text": [
      "Enter a string kunal karne\n"
     ]
    },
    {
     "ename": "TypeError",
     "evalue": "'str' object does not support item assignment",
     "output_type": "error",
     "traceback": [
      "\u001b[1;31m---------------------------------------------------------------------------\u001b[0m",
      "\u001b[1;31mTypeError\u001b[0m                                 Traceback (most recent call last)",
      "Cell \u001b[1;32mIn[51], line 2\u001b[0m\n\u001b[0;32m      1\u001b[0m str1\u001b[38;5;241m=\u001b[39m\u001b[38;5;28minput\u001b[39m(\u001b[38;5;124m\"\u001b[39m\u001b[38;5;124mEnter a string\u001b[39m\u001b[38;5;124m\"\u001b[39m)\n\u001b[1;32m----> 2\u001b[0m str1[\u001b[38;5;241m0\u001b[39m]\u001b[38;5;241m=\u001b[39mstr1[\u001b[38;5;241m0\u001b[39m]\u001b[38;5;241m.\u001b[39mupper()\n\u001b[0;32m      3\u001b[0m a\u001b[38;5;241m=\u001b[39m\u001b[38;5;28mlen\u001b[39m(str1)\n\u001b[0;32m      4\u001b[0m str1[a\u001b[38;5;241m-\u001b[39m\u001b[38;5;241m1\u001b[39m]\u001b[38;5;241m=\u001b[39mstr1[a\u001b[38;5;241m-\u001b[39m\u001b[38;5;241m1\u001b[39m]\u001b[38;5;241m.\u001b[39mupper()\n",
      "\u001b[1;31mTypeError\u001b[0m: 'str' object does not support item assignment"
     ]
    }
   ],
   "source": [
    "str1=input(\"Enter a string\")\n",
    "str1[0]=str1[0].upper()\n",
    "a=len(str1)\n",
    "str1[a-1]=str1[a-1].upper()\n",
    "print(str1)"
   ]
  },
  {
   "cell_type": "code",
   "execution_count": 56,
   "id": "8ff14ced-46a5-4bb9-94c5-71c701971d9e",
   "metadata": {},
   "outputs": [
    {
     "name": "stdin",
     "output_type": "stream",
     "text": [
      "enter a string kunal karne\n"
     ]
    },
    {
     "name": "stdout",
     "output_type": "stream",
     "text": [
      "unal karn\n",
      "Kunal karnE\n"
     ]
    }
   ],
   "source": [
    "str1=input(\"enter a string\")\n",
    "first=str1[0].upper()\n",
    "last=str1[-1].upper()\n",
    "middle=str1[1:-1]\n",
    "print(middle)\n",
    "\n",
    "str1=first+middle+last\n",
    "print(str1)"
   ]
  },
  {
   "cell_type": "markdown",
   "id": "b34abf46-c5cb-4882-a5ff-c52178dd28b3",
   "metadata": {},
   "source": [
    "### Q.Check if a string is all uppercase"
   ]
  },
  {
   "cell_type": "code",
   "execution_count": 59,
   "id": "ede1600a-eaf8-4086-9f84-177237f5a518",
   "metadata": {},
   "outputs": [
    {
     "name": "stdin",
     "output_type": "stream",
     "text": [
      "Enter a string Kunal\n"
     ]
    },
    {
     "name": "stdout",
     "output_type": "stream",
     "text": [
      "not all upper\n"
     ]
    }
   ],
   "source": [
    "str1=input(\"Enter a string\")\n",
    "if str1==str1.upper():\n",
    "    print(\"all upper\")\n",
    "else:\n",
    "    print(\"not all upper\")"
   ]
  },
  {
   "cell_type": "code",
   "execution_count": 63,
   "id": "af5e366b-e5eb-4db0-a6d6-18785ba7eef3",
   "metadata": {},
   "outputs": [
    {
     "name": "stdin",
     "output_type": "stream",
     "text": [
      "Enter a string KK\n"
     ]
    },
    {
     "name": "stdout",
     "output_type": "stream",
     "text": [
      "All upper\n"
     ]
    }
   ],
   "source": [
    "str1=input(\"Enter a string\")\n",
    "if str1.isupper():\n",
    "    print(\"All upper\")\n",
    "else:\n",
    "    print(\"not upper\")"
   ]
  },
  {
   "cell_type": "markdown",
   "id": "114fbf93-bf2a-45f1-93a6-29314c3ed7f8",
   "metadata": {},
   "source": [
    "### Convert an integer to a string"
   ]
  },
  {
   "cell_type": "code",
   "execution_count": 86,
   "id": "66c9e1c7-8f14-46dd-8fb7-e0eccdc0d0ee",
   "metadata": {},
   "outputs": [
    {
     "name": "stdout",
     "output_type": "stream",
     "text": [
      "B\n"
     ]
    }
   ],
   "source": [
    "num=66\n",
    "a=chr(num)\n",
    "print(a)"
   ]
  },
  {
   "cell_type": "code",
   "execution_count": 87,
   "id": "a7a38a06-1d77-44d8-8921-976e5ed52d62",
   "metadata": {},
   "outputs": [
    {
     "data": {
      "text/plain": [
       "str"
      ]
     },
     "execution_count": 87,
     "metadata": {},
     "output_type": "execute_result"
    }
   ],
   "source": [
    "type(a)"
   ]
  },
  {
   "cell_type": "markdown",
   "id": "80c0df7a-3dd5-48ba-8de9-5a75abe798fd",
   "metadata": {},
   "source": [
    "### Q.Check if a string contains only characters of the alphabet"
   ]
  },
  {
   "cell_type": "code",
   "execution_count": 98,
   "id": "abe7b3d1-27b9-43fd-80f3-f34b517e8e51",
   "metadata": {},
   "outputs": [
    {
     "name": "stdin",
     "output_type": "stream",
     "text": [
      "Enter a string kunal11\n"
     ]
    },
    {
     "name": "stdout",
     "output_type": "stream",
     "text": [
      "mix\n"
     ]
    }
   ],
   "source": [
    "str1=input(\"Enter a string\")\n",
    "if str1.isalpha():\n",
    "    print(\"contain alphabet\")\n",
    "else:\n",
    "    print(\"mix\")"
   ]
  },
  {
   "cell_type": "code",
   "execution_count": 103,
   "id": "14f61264-fb0a-4ff2-9af8-e5f63c32e743",
   "metadata": {},
   "outputs": [
    {
     "name": "stdin",
     "output_type": "stream",
     "text": [
      "Enter a string:  kunal\n"
     ]
    },
    {
     "name": "stdout",
     "output_type": "stream",
     "text": [
      "The string contains only alphabetic characters.\n"
     ]
    }
   ],
   "source": [
    "str1 = input(\"Enter a string: \")\n",
    "\n",
    "# Assume the string is alphabetic unless a non-alphabetic character is found\n",
    "is_alpha = True\n",
    "\n",
    "for char in str1:\n",
    "    if not ('A' <= char <= 'Z' or 'a' <= char <= 'z'):\n",
    "        is_alpha = False\n",
    "        break\n",
    "\n",
    "if is_alpha:\n",
    "    print(\"The string contains only alphabetic characters.\")\n",
    "else:\n",
    "    print(\"The string contains characters other than alphabetic characters.\")\n"
   ]
  },
  {
   "cell_type": "markdown",
   "id": "3b2f276a-82bb-4429-ab95-55d9110753df",
   "metadata": {},
   "source": [
    "### Q.Check if all characters in a string are alphanumeric"
   ]
  },
  {
   "cell_type": "code",
   "execution_count": 105,
   "id": "41b1d78a-c1ae-4711-91ce-3409c3a0c655",
   "metadata": {},
   "outputs": [
    {
     "name": "stdin",
     "output_type": "stream",
     "text": [
      "Enter a string Kunal@123\n"
     ]
    },
    {
     "name": "stdout",
     "output_type": "stream",
     "text": [
      "not alphanumeric\n"
     ]
    }
   ],
   "source": [
    "str1=input(\"Enter a string\")\n",
    "if str1.isalnum():\n",
    "    print(\"alphanumeric\")\n",
    "else:\n",
    "    print(\"not alphanumeric\")"
   ]
  },
  {
   "cell_type": "markdown",
   "id": "ea80b22b-a408-46c5-bfee-56abf8619685",
   "metadata": {},
   "source": [
    "### Q.Remove whitespace from the left, right or both sides of a string"
   ]
  },
  {
   "cell_type": "code",
   "execution_count": 107,
   "id": "97072233-0a6b-4c07-9fba-536f0ac84297",
   "metadata": {},
   "outputs": [
    {
     "name": "stdin",
     "output_type": "stream",
     "text": [
      "Enter a string     kunal     k\n"
     ]
    },
    {
     "name": "stdout",
     "output_type": "stream",
     "text": [
      "    kunal     k\n",
      "kunal     k\n",
      "    kunal     k\n",
      "kunal     k\n"
     ]
    }
   ],
   "source": [
    "str1=input(\"Enter a string\")\n",
    "print(str1)\n",
    "print(str1.lstrip())\n",
    "print(str1.rstrip())\n",
    "\n",
    "print(str1.strip())"
   ]
  },
  {
   "cell_type": "markdown",
   "id": "998d3d56-a123-4fd5-809b-cf34be633193",
   "metadata": {},
   "source": [
    "### Q.Check if a string begins with or ends with a specific character?"
   ]
  },
  {
   "cell_type": "code",
   "execution_count": 114,
   "id": "0587bafa-b692-403f-bfd6-bf935f89afa7",
   "metadata": {},
   "outputs": [
    {
     "name": "stdin",
     "output_type": "stream",
     "text": [
      "Enter string Kunal Karne\n",
      "Start with P\n",
      "Ends with k\n"
     ]
    },
    {
     "name": "stdout",
     "output_type": "stream",
     "text": [
      "not K  L\n"
     ]
    }
   ],
   "source": [
    "str=input(\"Enter string\")\n",
    "start=input(\"Start with\")\n",
    "end=input(\"Ends with\")\n",
    "if(str[0]==start and str[-1]==end):\n",
    "    print(\" K L\")\n",
    "else:\n",
    "    print(\"not K  L\")"
   ]
  },
  {
   "cell_type": "markdown",
   "id": "fe585a5d-92b1-4fd9-9789-3947f98a3215",
   "metadata": {},
   "source": [
    "### Q.Capitalize the first character of each word in a string"
   ]
  },
  {
   "cell_type": "code",
   "execution_count": 116,
   "id": "5349e40d-87a2-4d37-848e-e1ab5db9f2be",
   "metadata": {},
   "outputs": [
    {
     "name": "stdin",
     "output_type": "stream",
     "text": [
      "Enter a string kunal karne\n"
     ]
    },
    {
     "data": {
      "text/plain": [
       "'Kunal Karne'"
      ]
     },
     "execution_count": 116,
     "metadata": {},
     "output_type": "execute_result"
    }
   ],
   "source": [
    "str1=input(\"Enter a string\")\n",
    "str1.title()"
   ]
  },
  {
   "cell_type": "markdown",
   "id": "35434623-80d1-429a-924c-c78c53811207",
   "metadata": {},
   "source": [
    "### Q.Remove vowels from a string"
   ]
  },
  {
   "cell_type": "raw",
   "id": "06f49d87-b840-40a3-906b-09d62e245590",
   "metadata": {},
   "source": [
    "str1=input(\"Entre a string\")\n",
    "charr=\"\"\n",
    "for ch in str1:\n",
    "    if ch not in \"ariou\":\n",
    "        charr+=ch\n",
    "print(charr)\n",
    "    \n",
    "    "
   ]
  },
  {
   "cell_type": "raw",
   "id": "c244c3b5-83f4-49cb-ba84-d7eba95dbded",
   "metadata": {},
   "source": [
    "Write a program that prompts the user to enter a sentence and then prints out each word in uppercase. For example, if the user enters \"heallo world\", the program should print out \"HELLO WORLD\".\n"
   ]
  },
  {
   "cell_type": "code",
   "execution_count": 1,
   "id": "ab17767c-5871-49df-b2be-7be1a6035d17",
   "metadata": {},
   "outputs": [
    {
     "name": "stdin",
     "output_type": "stream",
     "text": [
      "Enter string kunal\n"
     ]
    },
    {
     "data": {
      "text/plain": [
       "'KUNAL'"
      ]
     },
     "execution_count": 1,
     "metadata": {},
     "output_type": "execute_result"
    }
   ],
   "source": [
    "str=input(\"Enter string\")\n",
    "str.upper()"
   ]
  },
  {
   "cell_type": "raw",
   "id": "d32396ec-da07-441d-8b9b-9105b2f65ddc",
   "metadata": {},
   "source": [
    "Write a program that reads in a list of names from a file and converts each name to uppercase before printing it out. The names in the file are separated by commas. For example, if the file contains \"John, Mary, Susan\", the program should print out \"JOHN\", \"MARY\", and \"SUSAN\""
   ]
  },
  {
   "cell_type": "code",
   "execution_count": 21,
   "id": "cd1087a7-250c-48bc-811d-6d26d8fc6fa9",
   "metadata": {},
   "outputs": [
    {
     "name": "stdin",
     "output_type": "stream",
     "text": [
      "Enter a string j,d,s,d\n"
     ]
    },
    {
     "name": "stdout",
     "output_type": "stream",
     "text": [
      "J\n",
      "D\n",
      "S\n",
      "D\n"
     ]
    }
   ],
   "source": [
    "str=input(\"Enter a string\")\n",
    "sep=str.split(\",\")\n",
    "for name in sep:\n",
    "    kk=name.upper()\n",
    "    print(kk)"
   ]
  },
  {
   "cell_type": "raw",
   "id": "f18783cd-0030-4d57-a044-6460a4f8713c",
   "metadata": {},
   "source": [
    "Write a function that takes a string as input and returns a list of all the words in the string that are longer than a specified length. The function should take two arguments: the string and the minimum length of a word. For example, if the input string is \"The quick brown fox jumps over the lazy dog\" and the minimum length is 4, the function should return [\"quick\", \"brown\", \"jumps\"]."
   ]
  },
  {
   "cell_type": "code",
   "execution_count": 25,
   "id": "5ffe5d3a-7f75-4ffc-9080-e2a0c075ac92",
   "metadata": {},
   "outputs": [
    {
     "name": "stdin",
     "output_type": "stream",
     "text": [
      "Enter a string The quick brown fox jumps over the lazy dog\n",
      "Enter minimum length 4\n"
     ]
    },
    {
     "name": "stdout",
     "output_type": "stream",
     "text": [
      "quick\n",
      "brown\n",
      "jumps\n"
     ]
    }
   ],
   "source": [
    "str=input(\"Enter a string\")\n",
    "minlength=int(input(\"Enter minimum length\"))\n",
    "sep=str.split(\" \")\n",
    "for word in sep:\n",
    "    if len(word)>minlength:\n",
    "        print(word)"
   ]
  },
  {
   "cell_type": "raw",
   "id": "7568220e-9c79-4868-af5f-88f75de8de71",
   "metadata": {},
   "source": [
    "Write a program that reads in a list of names from the user, separated by commas, and then prints out the number of names that begin with a vowel. For example, if the user enters \"Anna, Bob, Charlie, David, Emily\", the program should print out \"2\"."
   ]
  },
  {
   "cell_type": "code",
   "execution_count": 42,
   "id": "b93526f6-8dbb-4e60-82e5-ca96da9a9843",
   "metadata": {},
   "outputs": [
    {
     "name": "stdin",
     "output_type": "stream",
     "text": [
      "Enter a string Anna, Bob, Charlie, David, Emily\n"
     ]
    },
    {
     "name": "stdout",
     "output_type": "stream",
     "text": [
      "Anna\n",
      "Emily\n",
      "2\n"
     ]
    }
   ],
   "source": [
    "str=input(\"Enter a string\")\n",
    "sep=str.split(\",\")\n",
    "count=0\n",
    "for word in sep:\n",
    "    word = word.strip()\n",
    "    if word[0] in \"aeiouAEIOU\":\n",
    "        print(word)\n",
    "        count+=1\n",
    "\n",
    "print(count)\n",
    "        "
   ]
  },
  {
   "cell_type": "raw",
   "id": "1777d721-83d7-4062-a3f3-4406746bbae4",
   "metadata": {},
   "source": [
    "Write a function that takes a string as input and returns the string with all the vowels converted to uppercase. For example, if the input string is \"hello world\", the function should return \"hEllO wOrld\"."
   ]
  },
  {
   "cell_type": "code",
   "execution_count": 54,
   "id": "02e7bb49-a499-43be-a7a5-189cd10f678f",
   "metadata": {},
   "outputs": [
    {
     "name": "stdin",
     "output_type": "stream",
     "text": [
      "Enter a string bsda\n"
     ]
    },
    {
     "data": {
      "text/plain": [
       "'bsdA'"
      ]
     },
     "execution_count": 54,
     "metadata": {},
     "output_type": "execute_result"
    }
   ],
   "source": [
    "def vowelupper(text):\n",
    "    vowels = \"aeiou\"\n",
    "    result = \"\"\n",
    "    #text=text.split(\" \")\n",
    "    for char in text:\n",
    "        if char.lower() in vowels:\n",
    "            result += char.upper()\n",
    "        else:\n",
    "            result += char\n",
    "\n",
    "    return result\n",
    "        \n",
    "\n",
    "vowelupper(input(\"Enter a string\"))"
   ]
  },
  {
   "cell_type": "code",
   "execution_count": 59,
   "id": "0eceb371-b8d2-4143-b6dc-3d47281b0d7c",
   "metadata": {},
   "outputs": [
    {
     "name": "stdin",
     "output_type": "stream",
     "text": [
      "ENter kunal\n"
     ]
    },
    {
     "name": "stdout",
     "output_type": "stream",
     "text": [
      "kunal\n"
     ]
    }
   ],
   "source": [
    "text=input(\"ENter\")\n",
    "blank=\"\"\n",
    "for char in text:\n",
    "    blank+=char\n",
    "print(blank)"
   ]
  },
  {
   "cell_type": "raw",
   "id": "2374f2c0-29fb-40fb-88ba-e47538fdff71",
   "metadata": {},
   "source": [
    "Write a program that reads in a list of words from the user, separated by spaces, and then prints out the length of the longest word. For example, if the user enters \"the quick brown fox jumps over the lazy dog\", the program should print out \"5\"."
   ]
  },
  {
   "cell_type": "code",
   "execution_count": 62,
   "id": "0203e118-84ff-41ef-afc3-58dfff9e7ae9",
   "metadata": {},
   "outputs": [
    {
     "name": "stdin",
     "output_type": "stream",
     "text": [
      "Enter a string kunal kk\n"
     ]
    },
    {
     "name": "stdout",
     "output_type": "stream",
     "text": [
      "5\n",
      "2\n"
     ]
    }
   ],
   "source": [
    "str=input(\"Enter a string\")\n",
    "sep=str.split(\" \")\n",
    "for word in sep:\n",
    "    a=len(word)\n",
    "    print(a)"
   ]
  },
  {
   "cell_type": "code",
   "execution_count": 65,
   "id": "2efea287-61ea-471d-9150-5264ccc7c715",
   "metadata": {},
   "outputs": [
    {
     "name": "stdin",
     "output_type": "stream",
     "text": [
      "Enter a string the quick brown fox jumps over the lazy dog\n"
     ]
    },
    {
     "name": "stdout",
     "output_type": "stream",
     "text": [
      "5\n"
     ]
    }
   ],
   "source": [
    "str=input(\"Enter a string\")\n",
    "sep=str.split(\" \")\n",
    "maxlen=0\n",
    "for word in sep:\n",
    "    if len(word)>maxlen:\n",
    "        maxlen=len(word)\n",
    "\n",
    "print(maxlen)"
   ]
  },
  {
   "cell_type": "raw",
   "id": "a19a6110-57a4-4c44-aaf7-c2828cda5ccf",
   "metadata": {},
   "source": [
    "Write a Python program to count the number of words in a string using split()"
   ]
  },
  {
   "cell_type": "code",
   "execution_count": 4,
   "id": "53c6a085-f22a-4f9d-8d43-233b38347051",
   "metadata": {},
   "outputs": [
    {
     "name": "stdin",
     "output_type": "stream",
     "text": [
      "Enter a string kunal karne, gopal rajput\n"
     ]
    },
    {
     "name": "stdout",
     "output_type": "stream",
     "text": [
      "4\n"
     ]
    }
   ],
   "source": [
    "str=input(\"Enter a string\")\n",
    "sep=str.split(\" \")\n",
    "count=0\n",
    "for word in sep:\n",
    "    count+=1\n",
    "\n",
    "print(count)"
   ]
  },
  {
   "cell_type": "code",
   "execution_count": null,
   "id": "c51d8c61-5a33-4040-a58f-0f2070e83bfd",
   "metadata": {},
   "outputs": [],
   "source": []
  }
 ],
 "metadata": {
  "kernelspec": {
   "display_name": "Python 3 (ipykernel)",
   "language": "python",
   "name": "python3"
  },
  "language_info": {
   "codemirror_mode": {
    "name": "ipython",
    "version": 3
   },
   "file_extension": ".py",
   "mimetype": "text/x-python",
   "name": "python",
   "nbconvert_exporter": "python",
   "pygments_lexer": "ipython3",
   "version": "3.11.7"
  }
 },
 "nbformat": 4,
 "nbformat_minor": 5
}
